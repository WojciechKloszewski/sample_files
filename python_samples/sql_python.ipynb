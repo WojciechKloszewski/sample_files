{
 "cells": [
  {
   "cell_type": "code",
   "execution_count": 9,
   "id": "4e47d56a",
   "metadata": {},
   "outputs": [
    {
     "name": "stdout",
     "output_type": "stream",
     "text": [
      "Pokazuje dane z lokalnej bazy danych:\n",
      "[(2, 'WET2', 'Beata', 'Milka', 88102405432, 'student', 'koza2', '$2y$10$REZZlYT/P6FyTE1mLgBf.u6DkW552SUtL/FEmVc1Y4Mm5HLnci/5.')]\n"
     ]
    }
   ],
   "source": [
    "# importing required libraries\n",
    "import mysql.connector\n",
    "from mysql.connector import Error\n",
    "  \n",
    "dataBase = mysql.connector.connect(\n",
    "    host ='127.0.0.1',\n",
    "    user ='root',\n",
    "    passwd ='ABC1996ZAGA',\n",
    "    db = 'biblioteka'\n",
    ")\n",
    "   \n",
    "# preparing a cursor object \n",
    "cursorObject = dataBase.cursor()\n",
    "    \n",
    "print(\"Pokazuje dane z lokalnej bazy danych:\")\n",
    "\n",
    "x=2\n",
    "\n",
    "# selecting query\n",
    "#query = \"SELECT * FROM ksiazki\"\n",
    "\n",
    "query = \"SELECT * FROM uzytkownicy WHERE ID=\"+str(x)\n",
    "\n",
    "cursorObject.execute(query)\n",
    "  \n",
    "myresult = cursorObject.fetchall()\n",
    "\n",
    "#x = myresult[2][2]\n",
    "\n",
    "print(myresult)    \n",
    "    \n",
    "# disconnecting from server\n",
    "dataBase.close()"
   ]
  },
  {
   "cell_type": "code",
   "execution_count": 14,
   "id": "9c91b191",
   "metadata": {},
   "outputs": [
    {
     "name": "stdout",
     "output_type": "stream",
     "text": [
      "[(-2, 'A', 'C'), (0, 'B', 'D')]\n"
     ]
    },
    {
     "data": {
      "text/plain": [
       "<bound method Connection.close of <pypyodbc.Connection object at 0x000002438787CF70>>"
      ]
     },
     "execution_count": 14,
     "metadata": {},
     "output_type": "execute_result"
    }
   ],
   "source": [
    "# MS SQL SERVER\n",
    "# pip install pypyodbc\n",
    "\n",
    "import pypyodbc as odbc\n",
    "\n",
    "DRIVER_NAME =\"SQL SERVER\"\n",
    "SERVER_NAME=\"DELL-WK\\FORMATION\"\n",
    "DATABASE_NAME='TEST'\n",
    "\n",
    "connection_string = f\"\"\"\n",
    "    DRIVER={{{DRIVER_NAME}}};\n",
    "    SERVER={SERVER_NAME};\n",
    "    DATABASE={DATABASE_NAME};\n",
    "    Trust_Connection=yes;\n",
    "\n",
    "\"\"\"\n",
    "\n",
    "conn = odbc.connect(connection_string)\n",
    "\n",
    "# preparing a cursor object \n",
    "cursorObject = conn.cursor()\n",
    "query = \"SELECT * FROM Customers\"\n",
    "cursorObject.execute(query)\n",
    "myresult = cursorObject.fetchall()\n",
    "print(myresult) \n",
    "\n",
    "conn.close"
   ]
  },
  {
   "cell_type": "code",
   "execution_count": 35,
   "id": "cff7c85e",
   "metadata": {
    "scrolled": true
   },
   "outputs": [
    {
     "name": "stdout",
     "output_type": "stream",
     "text": [
      "Pokazuje dane z lokalnej bazy danych:\n",
      "[{'id': 2, 'kod_identyfikacyjny': 'WET2', 'imie': 'Beata', 'nazwisko': 'Milka', 'pesel': 88102405432, 'typ_klienta': 'student', 'login': 'koza2', 'haslo': '$2y$10$REZZlYT/P6FyTE1mLgBf.u6DkW552SUtL/FEmVc1Y4Mm5HLnci/5.'}]\n"
     ]
    }
   ],
   "source": [
    "# importing required libraries\n",
    "# pip install pymysql\n",
    "\n",
    "import pymysql.cursors\n",
    "\n",
    "dataBase = pymysql.connect(\n",
    "host = \"sql922.main-hosting.eu\",\n",
    "user = \"u931849715_wojklos\",\n",
    "password = \"Nasnedogonyat1!\",\n",
    "db = \"u931849715_biblioteka\",\n",
    "charset='utf8mb4',\n",
    "cursorclass=pymysql.cursors.DictCursor)\n",
    "\n",
    "\n",
    "# preparing a cursor object \n",
    "cursorObject = dataBase.cursor()\n",
    "    \n",
    "print(\"Pokazuje dane z remote bazy danych:\")\n",
    "\n",
    "x=2\n",
    "\n",
    "# selecting query\n",
    "#query = \"SELECT * FROM ksiazki\"\n",
    "\n",
    "query = \"SELECT * FROM uzytkownicy WHERE ID=\"+str(x)\n",
    "\n",
    "cursorObject.execute(query)\n",
    "  \n",
    "myresult = cursorObject.fetchall()\n",
    "\n",
    "#x = myresult[2][2]\n",
    "\n",
    "print(myresult)    \n",
    "    \n",
    "# disconnecting from server\n",
    "dataBase.close()\n"
   ]
  },
  {
   "cell_type": "code",
   "execution_count": null,
   "id": "0ffee99f",
   "metadata": {},
   "outputs": [],
   "source": []
  }
 ],
 "metadata": {
  "kernelspec": {
   "display_name": "Python 3",
   "language": "python",
   "name": "python3"
  },
  "language_info": {
   "codemirror_mode": {
    "name": "ipython",
    "version": 3
   },
   "file_extension": ".py",
   "mimetype": "text/x-python",
   "name": "python",
   "nbconvert_exporter": "python",
   "pygments_lexer": "ipython3",
   "version": "3.8.8"
  }
 },
 "nbformat": 4,
 "nbformat_minor": 5
}
