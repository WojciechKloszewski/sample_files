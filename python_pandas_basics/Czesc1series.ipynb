{
 "cells": [
  {
   "cell_type": "code",
   "execution_count": 1,
   "id": "711d7371",
   "metadata": {},
   "outputs": [],
   "source": [
    "import pandas as pd\n",
    "import numpy as np\n",
    "import math as math\n",
    "import matplotlib.pyplot as plt"
   ]
  },
  {
   "cell_type": "code",
   "execution_count": 2,
   "id": "1d9b9e8a",
   "metadata": {},
   "outputs": [
    {
     "data": {
      "text/plain": [
       "['London', 'Berlin', 'Paris']"
      ]
     },
     "execution_count": 2,
     "metadata": {},
     "output_type": "execute_result"
    }
   ],
   "source": [
    "#lista \n",
    "cities = ['London','Berlin','Paris']\n",
    "cities"
   ]
  },
  {
   "cell_type": "code",
   "execution_count": 3,
   "id": "8b7b1721",
   "metadata": {},
   "outputs": [
    {
     "data": {
      "text/plain": [
       "0    London\n",
       "1    Berlin\n",
       "2     Paris\n",
       "dtype: object"
      ]
     },
     "execution_count": 3,
     "metadata": {},
     "output_type": "execute_result"
    }
   ],
   "source": [
    "#utworzyć obiekt serii-jedna kolumna danych\n",
    "#konstruktor wywołujący metodę cities\n",
    "pd.Series(cities)"
   ]
  },
  {
   "cell_type": "code",
   "execution_count": 5,
   "id": "d9c283e3",
   "metadata": {},
   "outputs": [
    {
     "data": {
      "text/plain": [
       "{'Abc': 1999, 'Fuble': 1998, 'Kret': 1984}"
      ]
     },
     "execution_count": 5,
     "metadata": {},
     "output_type": "execute_result"
    }
   ],
   "source": [
    "#słownik lub tabela hashowana\n",
    "hastable={'Abc': 1999 , 'Fuble': 1998 , 'Kret':1984}\n",
    "#wynik\n",
    "hastable"
   ]
  },
  {
   "cell_type": "code",
   "execution_count": 6,
   "id": "1cb7cf6a",
   "metadata": {},
   "outputs": [
    {
     "data": {
      "text/plain": [
       "Abc      1999\n",
       "Fuble    1998\n",
       "Kret     1984\n",
       "dtype: int64"
      ]
     },
     "execution_count": 6,
     "metadata": {},
     "output_type": "execute_result"
    }
   ],
   "source": [
    "#teraz by indeksy to były wartości z tabeli hashowanej\n",
    "pd.Series(hastable)"
   ]
  },
  {
   "cell_type": "code",
   "execution_count": 9,
   "id": "d6169134",
   "metadata": {},
   "outputs": [
    {
     "data": {
      "text/plain": [
       "3"
      ]
     },
     "execution_count": 9,
     "metadata": {},
     "output_type": "execute_result"
    }
   ],
   "source": [
    "#ile elementów w zbiorze\n",
    "citiesSeries = pd.Series(cities)\n",
    "citiesSeries.size"
   ]
  },
  {
   "cell_type": "code",
   "execution_count": 10,
   "id": "f5531601",
   "metadata": {},
   "outputs": [
    {
     "data": {
      "text/plain": [
       "24"
      ]
     },
     "execution_count": 10,
     "metadata": {},
     "output_type": "execute_result"
    }
   ],
   "source": [
    "#ile bajtów zawiera obiekt w pamięci\n",
    "citiesSeries.nbytes"
   ]
  },
  {
   "cell_type": "code",
   "execution_count": 11,
   "id": "2c50dc6b",
   "metadata": {},
   "outputs": [
    {
     "data": {
      "text/plain": [
       "True"
      ]
     },
     "execution_count": 11,
     "metadata": {},
     "output_type": "execute_result"
    }
   ],
   "source": [
    "#czy wartości w tabeli są unikalne\n",
    "citiesSeries.is_unique"
   ]
  },
  {
   "cell_type": "code",
   "execution_count": 12,
   "id": "06d8a323",
   "metadata": {},
   "outputs": [
    {
     "data": {
      "text/plain": [
       "False"
      ]
     },
     "execution_count": 12,
     "metadata": {},
     "output_type": "execute_result"
    }
   ],
   "source": [
    "#czy wartości w liście są monotoniczne\n",
    "citiesSeries.is_monotonic"
   ]
  },
  {
   "cell_type": "code",
   "execution_count": 13,
   "id": "08bc6f1d",
   "metadata": {},
   "outputs": [
    {
     "data": {
      "text/plain": [
       "RangeIndex(start=0, stop=3, step=1)"
      ]
     },
     "execution_count": 13,
     "metadata": {},
     "output_type": "execute_result"
    }
   ],
   "source": [
    "#jaki jest kształt indeksu początek, koniec, krok indeksu\n",
    "citiesSeries.index"
   ]
  },
  {
   "cell_type": "code",
   "execution_count": 14,
   "id": "ecc6b314",
   "metadata": {},
   "outputs": [
    {
     "data": {
      "text/plain": [
       "array(['London', 'Berlin', 'Paris'], dtype=object)"
      ]
     },
     "execution_count": 14,
     "metadata": {},
     "output_type": "execute_result"
    }
   ],
   "source": [
    "#jaki jest rodzaj wartości\n",
    "citiesSeries.values"
   ]
  },
  {
   "cell_type": "code",
   "execution_count": 15,
   "id": "3970db03",
   "metadata": {},
   "outputs": [
    {
     "data": {
      "text/plain": [
       "(3,)"
      ]
     },
     "execution_count": 15,
     "metadata": {},
     "output_type": "execute_result"
    }
   ],
   "source": [
    "#jaki kształt - 3 elementy na jednym wymiarze\n",
    "citiesSeries.shape"
   ]
  },
  {
   "cell_type": "code",
   "execution_count": 16,
   "id": "c319ec6d",
   "metadata": {},
   "outputs": [
    {
     "data": {
      "text/plain": [
       "[RangeIndex(start=0, stop=3, step=1)]"
      ]
     },
     "execution_count": 16,
     "metadata": {},
     "output_type": "execute_result"
    }
   ],
   "source": [
    "#jakie współrzędne\n",
    "citiesSeries.axes"
   ]
  },
  {
   "cell_type": "code",
   "execution_count": 17,
   "id": "cb711c01",
   "metadata": {},
   "outputs": [
    {
     "data": {
      "text/plain": [
       "True"
      ]
     },
     "execution_count": 17,
     "metadata": {},
     "output_type": "execute_result"
    }
   ],
   "source": [
    "monotoniclist = [1,3,5,7]\n",
    "monotonic = pd.Series(monotoniclist)\n",
    "monotonic.is_monotonic"
   ]
  },
  {
   "cell_type": "code",
   "execution_count": 18,
   "id": "f7c7e610",
   "metadata": {},
   "outputs": [
    {
     "data": {
      "text/plain": [
       "True"
      ]
     },
     "execution_count": 18,
     "metadata": {},
     "output_type": "execute_result"
    }
   ],
   "source": [
    "#czy są to wartości rosnące (_decreasing - malejące)\n",
    "monotonic.is_monotonic_increasing"
   ]
  },
  {
   "cell_type": "code",
   "execution_count": 19,
   "id": "eb052ff3",
   "metadata": {},
   "outputs": [
    {
     "data": {
      "text/plain": [
       "16"
      ]
     },
     "execution_count": 19,
     "metadata": {},
     "output_type": "execute_result"
    }
   ],
   "source": [
    "monotonic.sum()"
   ]
  },
  {
   "cell_type": "code",
   "execution_count": 20,
   "id": "5fc1588e",
   "metadata": {},
   "outputs": [
    {
     "data": {
      "text/plain": [
       "1"
      ]
     },
     "execution_count": 20,
     "metadata": {},
     "output_type": "execute_result"
    }
   ],
   "source": [
    "monotonic.min()"
   ]
  },
  {
   "cell_type": "code",
   "execution_count": 21,
   "id": "be4de3ab",
   "metadata": {},
   "outputs": [
    {
     "data": {
      "text/plain": [
       "4.0"
      ]
     },
     "execution_count": 21,
     "metadata": {},
     "output_type": "execute_result"
    }
   ],
   "source": [
    "monotonic.mean()"
   ]
  },
  {
   "cell_type": "code",
   "execution_count": 22,
   "id": "0b327666",
   "metadata": {},
   "outputs": [
    {
     "data": {
      "text/plain": [
       "7"
      ]
     },
     "execution_count": 22,
     "metadata": {},
     "output_type": "execute_result"
    }
   ],
   "source": [
    "monotonic.max()"
   ]
  },
  {
   "cell_type": "code",
   "execution_count": 23,
   "id": "8dc5522a",
   "metadata": {},
   "outputs": [
    {
     "data": {
      "text/plain": [
       "4"
      ]
     },
     "execution_count": 23,
     "metadata": {},
     "output_type": "execute_result"
    }
   ],
   "source": [
    "monotonic.count()"
   ]
  },
  {
   "cell_type": "code",
   "execution_count": 24,
   "id": "06c5c0eb",
   "metadata": {},
   "outputs": [
    {
     "data": {
      "text/plain": [
       "RangeIndex(start=0, stop=4, step=1)"
      ]
     },
     "execution_count": 24,
     "metadata": {},
     "output_type": "execute_result"
    }
   ],
   "source": [
    "#metoda zwracająca jak został zbudowany index\n",
    "monotonic.keys()"
   ]
  },
  {
   "cell_type": "code",
   "execution_count": 25,
   "id": "6e48debf",
   "metadata": {},
   "outputs": [
    {
     "data": {
      "text/plain": [
       "[1, 3, 5, 7]"
      ]
     },
     "execution_count": 25,
     "metadata": {},
     "output_type": "execute_result"
    }
   ],
   "source": [
    "#metoda konwertująca zakres na listę\n",
    "monotonic.tolist()"
   ]
  },
  {
   "cell_type": "code",
   "execution_count": 26,
   "id": "794d2549",
   "metadata": {},
   "outputs": [
    {
     "data": {
      "text/plain": [
       "0    21\n",
       "1    23\n",
       "2    25\n",
       "3    27\n",
       "dtype: int64"
      ]
     },
     "execution_count": 26,
     "metadata": {},
     "output_type": "execute_result"
    }
   ],
   "source": [
    "#dodanie jakiejś wartości do każdego elementu w zbiorze\n",
    "monotonic.add(20) #doda 20 do każdego elementu"
   ]
  },
  {
   "cell_type": "code",
   "execution_count": 27,
   "id": "d821ee8b",
   "metadata": {},
   "outputs": [],
   "source": [
    "#gdy chcemy zapisać na stałe to np. nowa zmienna\n",
    "nowa = monotonic.add(10)"
   ]
  },
  {
   "cell_type": "code",
   "execution_count": 29,
   "id": "ab35de72",
   "metadata": {},
   "outputs": [],
   "source": [
    "currencies = ['usd', 'eur','pln','eur']\n",
    "countries = ['usa','spain','poland','portugal']"
   ]
  },
  {
   "cell_type": "code",
   "execution_count": 30,
   "id": "7bd67d96",
   "metadata": {},
   "outputs": [
    {
     "data": {
      "text/plain": [
       "usd         usa\n",
       "eur       spain\n",
       "pln      poland\n",
       "eur    portugal\n",
       "dtype: object"
      ]
     },
     "execution_count": 30,
     "metadata": {},
     "output_type": "execute_result"
    }
   ],
   "source": [
    "#zdefiniowanie listy\n",
    "curSeries = pd.Series(countries,currencies)\n",
    "curSeries"
   ]
  },
  {
   "cell_type": "code",
   "execution_count": 31,
   "id": "ab651002",
   "metadata": {},
   "outputs": [],
   "source": [
    "#inny sposób\n",
    "curSeries = pd.Series(data=countries, index=currencies)"
   ]
  },
  {
   "cell_type": "code",
   "execution_count": 32,
   "id": "15118f31",
   "metadata": {},
   "outputs": [
    {
     "data": {
      "text/plain": [
       "usd         usa\n",
       "eur       spain\n",
       "pln      poland\n",
       "eur    portugal\n",
       "dtype: object"
      ]
     },
     "execution_count": 32,
     "metadata": {},
     "output_type": "execute_result"
    }
   ],
   "source": [
    "curSeries"
   ]
  },
  {
   "cell_type": "code",
   "execution_count": 33,
   "id": "b0ad2158",
   "metadata": {},
   "outputs": [],
   "source": [
    "#filtrowanie danych w serii"
   ]
  },
  {
   "cell_type": "code",
   "execution_count": 34,
   "id": "436e2167",
   "metadata": {},
   "outputs": [],
   "source": [
    "numbers = [1,2,4,5,11,24]"
   ]
  },
  {
   "cell_type": "code",
   "execution_count": 37,
   "id": "ed3e76de",
   "metadata": {},
   "outputs": [
    {
     "data": {
      "text/plain": [
       "4    11.0\n",
       "5    24.0\n",
       "dtype: float64"
      ]
     },
     "execution_count": 37,
     "metadata": {},
     "output_type": "execute_result"
    }
   ],
   "source": [
    "#chcemy tylko liczby >10 #shift+tab - by była legenda co można zrobić metody\n",
    "numSeries = pd.Series(numbers)\n",
    "numSeries.where ( numSeries> 10).dropna()"
   ]
  },
  {
   "cell_type": "code",
   "execution_count": 38,
   "id": "046e330f",
   "metadata": {},
   "outputs": [],
   "source": [
    "#by zapisać na stałe\n",
    "numSeries.where ( numSeries> 10, inplace=True)"
   ]
  },
  {
   "cell_type": "code",
   "execution_count": 40,
   "id": "27f77f1f",
   "metadata": {},
   "outputs": [],
   "source": [
    "numSeries.dropna(inplace=True)"
   ]
  },
  {
   "cell_type": "code",
   "execution_count": 41,
   "id": "a76528d0",
   "metadata": {},
   "outputs": [
    {
     "data": {
      "text/plain": [
       "4    11.0\n",
       "5    24.0\n",
       "dtype: float64"
      ]
     },
     "execution_count": 41,
     "metadata": {},
     "output_type": "execute_result"
    }
   ],
   "source": [
    "numSeries"
   ]
  },
  {
   "cell_type": "code",
   "execution_count": 42,
   "id": "668b2e92",
   "metadata": {},
   "outputs": [
    {
     "data": {
      "text/plain": [
       "4    11.0\n",
       "dtype: float64"
      ]
     },
     "execution_count": 42,
     "metadata": {},
     "output_type": "execute_result"
    }
   ],
   "source": [
    "#wyfiltruj pewne elementy - wcześniej trzeba przywrócić poprzednie wszystkie wartości początkowe\n",
    "numSeries.filter(items=[0,2,4])"
   ]
  },
  {
   "cell_type": "code",
   "execution_count": 46,
   "id": "1e2a92d1",
   "metadata": {},
   "outputs": [],
   "source": [
    "numSeries = [1,2,3,4,5,7]\n",
    "numSeries = pd.Series(numSeries)"
   ]
  },
  {
   "cell_type": "code",
   "execution_count": 47,
   "id": "d6892a1b",
   "metadata": {},
   "outputs": [
    {
     "data": {
      "text/plain": [
       "0     True\n",
       "1    False\n",
       "2     True\n",
       "3    False\n",
       "4     True\n",
       "5     True\n",
       "dtype: bool"
      ]
     },
     "execution_count": 47,
     "metadata": {},
     "output_type": "execute_result"
    }
   ],
   "source": [
    "#wyznacz tylko liczby nieparzyste\n",
    "numSeries % 2 == 1"
   ]
  },
  {
   "cell_type": "code",
   "execution_count": 48,
   "id": "306e4557",
   "metadata": {},
   "outputs": [
    {
     "data": {
      "text/plain": [
       "0    1.0\n",
       "2    3.0\n",
       "4    5.0\n",
       "5    7.0\n",
       "dtype: float64"
      ]
     },
     "execution_count": 48,
     "metadata": {},
     "output_type": "execute_result"
    }
   ],
   "source": [
    "numSeries.where(numSeries % 2 ==1).dropna()"
   ]
  },
  {
   "cell_type": "code",
   "execution_count": 53,
   "id": "f05cbfaf",
   "metadata": {},
   "outputs": [],
   "source": [
    "#łączenie warunków - nieparzyste oraz >3\n",
    "numGreater10 = numSeries >3"
   ]
  },
  {
   "cell_type": "code",
   "execution_count": 50,
   "id": "f519e752",
   "metadata": {},
   "outputs": [],
   "source": [
    "numOdd = numSeries % 2 == 1"
   ]
  },
  {
   "cell_type": "code",
   "execution_count": 55,
   "id": "7a4b1f26",
   "metadata": {},
   "outputs": [
    {
     "data": {
      "text/plain": [
       "4    5.0\n",
       "5    7.0\n",
       "dtype: float64"
      ]
     },
     "execution_count": 55,
     "metadata": {},
     "output_type": "execute_result"
    }
   ],
   "source": [
    "numSeries.where(numGreater10 & numOdd).dropna()"
   ]
  },
  {
   "cell_type": "code",
   "execution_count": 57,
   "id": "cf7e85a1",
   "metadata": {},
   "outputs": [
    {
     "data": {
      "text/plain": [
       "0    NaN\n",
       "1    NaN\n",
       "2    3.0\n",
       "3    4.0\n",
       "4    5.0\n",
       "5    7.0\n",
       "dtype: float64"
      ]
     },
     "execution_count": 57,
     "metadata": {},
     "output_type": "execute_result"
    }
   ],
   "source": [
    "numSeries.where(numSeries.between(3,10))"
   ]
  },
  {
   "cell_type": "code",
   "execution_count": 58,
   "id": "d322f47d",
   "metadata": {
    "scrolled": true
   },
   "outputs": [
    {
     "data": {
      "text/plain": [
       "0    NaN\n",
       "1    NaN\n",
       "2    3.0\n",
       "3    4.0\n",
       "4    5.0\n",
       "5    7.0\n",
       "dtype: float64"
      ]
     },
     "execution_count": 58,
     "metadata": {},
     "output_type": "execute_result"
    }
   ],
   "source": [
    "#inny sposób , dla złożonych warunków\n",
    "veluestoshow = numSeries.between(3,10)\n",
    "numSeries.where(veluestoshow)"
   ]
  },
  {
   "cell_type": "code",
   "execution_count": 60,
   "id": "b2d79774",
   "metadata": {},
   "outputs": [],
   "source": [
    "obj = pd.read_csv(\"dane/pokemon.csv\")\n",
    "#gdy wciśnieny \"o\" tp nam się schowają dane z tabeli"
   ]
  },
  {
   "cell_type": "code",
   "execution_count": 63,
   "id": "276eccaf",
   "metadata": {},
   "outputs": [],
   "source": [
    "# wybierz kolumny do odczytania ; sqeeze - by był obiekt seri\n",
    "obj = pd.read_csv(\"dane/pokemon.csv\", usecols=['Name'] , squeeze=True)"
   ]
  },
  {
   "cell_type": "code",
   "execution_count": 64,
   "id": "0d10f62b",
   "metadata": {},
   "outputs": [
    {
     "data": {
      "text/plain": [
       "pandas.core.series.Series"
      ]
     },
     "execution_count": 64,
     "metadata": {},
     "output_type": "execute_result"
    }
   ],
   "source": [
    "type(obj)"
   ]
  },
  {
   "cell_type": "code",
   "execution_count": 65,
   "id": "f44653f7",
   "metadata": {},
   "outputs": [],
   "source": [
    "#dane ze schowka wprowadź\n",
    "datafromclipboard = pd.read_clipboard(sep=',')"
   ]
  },
  {
   "cell_type": "code",
   "execution_count": 68,
   "id": "25a6d501",
   "metadata": {},
   "outputs": [
    {
     "data": {
      "text/plain": [
       "0                  Bulbasaur\n",
       "1                    Ivysaur\n",
       "2                   Venusaur\n",
       "3      VenusaurMega Venusaur\n",
       "4                 Charmander\n",
       "               ...          \n",
       "795                  Diancie\n",
       "796      DiancieMega Diancie\n",
       "797      HoopaHoopa Confined\n",
       "798       HoopaHoopa Unbound\n",
       "799                Volcanion\n",
       "Name: Name, Length: 800, dtype: object"
      ]
     },
     "execution_count": 68,
     "metadata": {},
     "output_type": "execute_result"
    }
   ],
   "source": [
    "#gdy zależy nam tylko na jednej kolumnie\n",
    "oneSeries = datafromclipboard['Name']\n",
    "oneSeries"
   ]
  },
  {
   "cell_type": "code",
   "execution_count": 71,
   "id": "445179e2",
   "metadata": {},
   "outputs": [],
   "source": [
    "# .head(5)  .tail(5)\n",
    "#pamiętaj by najpierw wczytać wszystko a potem head bo inaczej zapiszesz tylko pierwsze wiersze"
   ]
  },
  {
   "cell_type": "code",
   "execution_count": 72,
   "id": "b7d63389",
   "metadata": {},
   "outputs": [
    {
     "data": {
      "text/plain": [
       "pandas.core.series.Series"
      ]
     },
     "execution_count": 72,
     "metadata": {},
     "output_type": "execute_result"
    }
   ],
   "source": [
    "#metody z python\n",
    "type(obj)"
   ]
  },
  {
   "cell_type": "code",
   "execution_count": 74,
   "id": "3c6d2a97",
   "metadata": {},
   "outputs": [
    {
     "data": {
      "text/plain": [
       "800"
      ]
     },
     "execution_count": 74,
     "metadata": {},
     "output_type": "execute_result"
    }
   ],
   "source": [
    "#ile wierszy\n",
    "len(obj)"
   ]
  },
  {
   "cell_type": "code",
   "execution_count": 75,
   "id": "f1384bee",
   "metadata": {},
   "outputs": [
    {
     "data": {
      "text/plain": [
       "['Abomasnow',\n",
       " 'AbomasnowMega Abomasnow',\n",
       " 'Abra',\n",
       " 'Absol',\n",
       " 'AbsolMega Absol',\n",
       " 'Accelgor',\n",
       " 'AegislashBlade Forme',\n",
       " 'AegislashShield Forme',\n",
       " 'Aerodactyl',\n",
       " 'AerodactylMega Aerodactyl',\n",
       " 'Aggron',\n",
       " 'AggronMega Aggron',\n",
       " 'Aipom',\n",
       " 'Alakazam',\n",
       " 'AlakazamMega Alakazam',\n",
       " 'Alomomola',\n",
       " 'Altaria',\n",
       " 'AltariaMega Altaria',\n",
       " 'Amaura',\n",
       " 'Ambipom',\n",
       " 'Amoonguss',\n",
       " 'Ampharos',\n",
       " 'AmpharosMega Ampharos',\n",
       " 'Anorith',\n",
       " 'Arbok',\n",
       " 'Arcanine',\n",
       " 'Arceus',\n",
       " 'Archen',\n",
       " 'Archeops',\n",
       " 'Ariados',\n",
       " 'Armaldo',\n",
       " 'Aromatisse',\n",
       " 'Aron',\n",
       " 'Articuno',\n",
       " 'Audino',\n",
       " 'AudinoMega Audino',\n",
       " 'Aurorus',\n",
       " 'Avalugg',\n",
       " 'Axew',\n",
       " 'Azelf',\n",
       " 'Azumarill',\n",
       " 'Azurill',\n",
       " 'Bagon',\n",
       " 'Baltoy',\n",
       " 'Banette',\n",
       " 'BanetteMega Banette',\n",
       " 'Barbaracle',\n",
       " 'Barboach',\n",
       " 'Basculin',\n",
       " 'Bastiodon',\n",
       " 'Bayleef',\n",
       " 'Beartic',\n",
       " 'Beautifly',\n",
       " 'Beedrill',\n",
       " 'BeedrillMega Beedrill',\n",
       " 'Beheeyem',\n",
       " 'Beldum',\n",
       " 'Bellossom',\n",
       " 'Bellsprout',\n",
       " 'Bergmite',\n",
       " 'Bibarel',\n",
       " 'Bidoof',\n",
       " 'Binacle',\n",
       " 'Bisharp',\n",
       " 'Blastoise',\n",
       " 'BlastoiseMega Blastoise',\n",
       " 'Blaziken',\n",
       " 'BlazikenMega Blaziken',\n",
       " 'Blissey',\n",
       " 'Blitzle',\n",
       " 'Boldore',\n",
       " 'Bonsly',\n",
       " 'Bouffalant',\n",
       " 'Braixen',\n",
       " 'Braviary',\n",
       " 'Breloom',\n",
       " 'Bronzong',\n",
       " 'Bronzor',\n",
       " 'Budew',\n",
       " 'Buizel',\n",
       " 'Bulbasaur',\n",
       " 'Buneary',\n",
       " 'Bunnelby',\n",
       " 'Burmy',\n",
       " 'Butterfree',\n",
       " 'Cacnea',\n",
       " 'Cacturne',\n",
       " 'Camerupt',\n",
       " 'CameruptMega Camerupt',\n",
       " 'Carbink',\n",
       " 'Carnivine',\n",
       " 'Carracosta',\n",
       " 'Carvanha',\n",
       " 'Cascoon',\n",
       " 'Castform',\n",
       " 'Caterpie',\n",
       " 'Celebi',\n",
       " 'Chandelure',\n",
       " 'Chansey',\n",
       " 'Charizard',\n",
       " 'CharizardMega Charizard X',\n",
       " 'CharizardMega Charizard Y',\n",
       " 'Charmander',\n",
       " 'Charmeleon',\n",
       " 'Chatot',\n",
       " 'Cherrim',\n",
       " 'Cherubi',\n",
       " 'Chesnaught',\n",
       " 'Chespin',\n",
       " 'Chikorita',\n",
       " 'Chimchar',\n",
       " 'Chimecho',\n",
       " 'Chinchou',\n",
       " 'Chingling',\n",
       " 'Cinccino',\n",
       " 'Clamperl',\n",
       " 'Clauncher',\n",
       " 'Clawitzer',\n",
       " 'Claydol',\n",
       " 'Clefable',\n",
       " 'Clefairy',\n",
       " 'Cleffa',\n",
       " 'Cloyster',\n",
       " 'Cobalion',\n",
       " 'Cofagrigus',\n",
       " 'Combee',\n",
       " 'Combusken',\n",
       " 'Conkeldurr',\n",
       " 'Corphish',\n",
       " 'Corsola',\n",
       " 'Cottonee',\n",
       " 'Cradily',\n",
       " 'Cranidos',\n",
       " 'Crawdaunt',\n",
       " 'Cresselia',\n",
       " 'Croagunk',\n",
       " 'Crobat',\n",
       " 'Croconaw',\n",
       " 'Crustle',\n",
       " 'Cryogonal',\n",
       " 'Cubchoo',\n",
       " 'Cubone',\n",
       " 'Cyndaquil',\n",
       " 'Darkrai',\n",
       " 'DarmanitanStandard Mode',\n",
       " 'DarmanitanZen Mode',\n",
       " 'Darumaka',\n",
       " 'Dedenne',\n",
       " 'Deerling',\n",
       " 'Deino',\n",
       " 'Delcatty',\n",
       " 'Delibird',\n",
       " 'Delphox',\n",
       " 'DeoxysAttack Forme',\n",
       " 'DeoxysDefense Forme',\n",
       " 'DeoxysNormal Forme',\n",
       " 'DeoxysSpeed Forme',\n",
       " 'Dewgong',\n",
       " 'Dewott',\n",
       " 'Dialga',\n",
       " 'Diancie',\n",
       " 'DiancieMega Diancie',\n",
       " 'Diggersby',\n",
       " 'Diglett',\n",
       " 'Ditto',\n",
       " 'Dodrio',\n",
       " 'Doduo',\n",
       " 'Donphan',\n",
       " 'Doublade',\n",
       " 'Dragalge',\n",
       " 'Dragonair',\n",
       " 'Dragonite',\n",
       " 'Drapion',\n",
       " 'Dratini',\n",
       " 'Drifblim',\n",
       " 'Drifloon',\n",
       " 'Drilbur',\n",
       " 'Drowzee',\n",
       " 'Druddigon',\n",
       " 'Ducklett',\n",
       " 'Dugtrio',\n",
       " 'Dunsparce',\n",
       " 'Duosion',\n",
       " 'Durant',\n",
       " 'Dusclops',\n",
       " 'Dusknoir',\n",
       " 'Duskull',\n",
       " 'Dustox',\n",
       " 'Dwebble',\n",
       " 'Eelektrik',\n",
       " 'Eelektross',\n",
       " 'Eevee',\n",
       " 'Ekans',\n",
       " 'Electabuzz',\n",
       " 'Electivire',\n",
       " 'Electrike',\n",
       " 'Electrode',\n",
       " 'Elekid',\n",
       " 'Elgyem',\n",
       " 'Emboar',\n",
       " 'Emolga',\n",
       " 'Empoleon',\n",
       " 'Entei',\n",
       " 'Escavalier',\n",
       " 'Espeon',\n",
       " 'Espurr',\n",
       " 'Excadrill',\n",
       " 'Exeggcute',\n",
       " 'Exeggutor',\n",
       " 'Exploud',\n",
       " \"Farfetch'd\",\n",
       " 'Fearow',\n",
       " 'Feebas',\n",
       " 'Fennekin',\n",
       " 'Feraligatr',\n",
       " 'Ferroseed',\n",
       " 'Ferrothorn',\n",
       " 'Finneon',\n",
       " 'Flaaffy',\n",
       " 'Flabébé',\n",
       " 'Flareon',\n",
       " 'Fletchinder',\n",
       " 'Fletchling',\n",
       " 'Floatzel',\n",
       " 'Floette',\n",
       " 'Florges',\n",
       " 'Flygon',\n",
       " 'Foongus',\n",
       " 'Forretress',\n",
       " 'Fraxure',\n",
       " 'Frillish',\n",
       " 'Froakie',\n",
       " 'Frogadier',\n",
       " 'Froslass',\n",
       " 'Furfrou',\n",
       " 'Furret',\n",
       " 'Gabite',\n",
       " 'Gallade',\n",
       " 'GalladeMega Gallade',\n",
       " 'Galvantula',\n",
       " 'Garbodor',\n",
       " 'Garchomp',\n",
       " 'GarchompMega Garchomp',\n",
       " 'Gardevoir',\n",
       " 'GardevoirMega Gardevoir',\n",
       " 'Gastly',\n",
       " 'Gastrodon',\n",
       " 'Genesect',\n",
       " 'Gengar',\n",
       " 'GengarMega Gengar',\n",
       " 'Geodude',\n",
       " 'Gible',\n",
       " 'Gigalith',\n",
       " 'Girafarig',\n",
       " 'GiratinaAltered Forme',\n",
       " 'GiratinaOrigin Forme',\n",
       " 'Glaceon',\n",
       " 'Glalie',\n",
       " 'GlalieMega Glalie',\n",
       " 'Glameow',\n",
       " 'Gligar',\n",
       " 'Gliscor',\n",
       " 'Gloom',\n",
       " 'Gogoat',\n",
       " 'Golbat',\n",
       " 'Goldeen',\n",
       " 'Golduck',\n",
       " 'Golem',\n",
       " 'Golett',\n",
       " 'Golurk',\n",
       " 'Goodra',\n",
       " 'Goomy',\n",
       " 'Gorebyss',\n",
       " 'Gothita',\n",
       " 'Gothitelle',\n",
       " 'Gothorita',\n",
       " 'GourgeistAverage Size',\n",
       " 'GourgeistLarge Size',\n",
       " 'GourgeistSmall Size',\n",
       " 'GourgeistSuper Size',\n",
       " 'Granbull',\n",
       " 'Graveler',\n",
       " 'Greninja',\n",
       " 'Grimer',\n",
       " 'Grotle',\n",
       " 'Groudon',\n",
       " 'GroudonPrimal Groudon',\n",
       " 'Grovyle',\n",
       " 'Growlithe',\n",
       " 'Grumpig',\n",
       " 'Gulpin',\n",
       " 'Gurdurr',\n",
       " 'Gyarados',\n",
       " 'GyaradosMega Gyarados',\n",
       " 'Happiny',\n",
       " 'Hariyama',\n",
       " 'Haunter',\n",
       " 'Hawlucha',\n",
       " 'Haxorus',\n",
       " 'Heatmor',\n",
       " 'Heatran',\n",
       " 'Heliolisk',\n",
       " 'Helioptile',\n",
       " 'Heracross',\n",
       " 'HeracrossMega Heracross',\n",
       " 'Herdier',\n",
       " 'Hippopotas',\n",
       " 'Hippowdon',\n",
       " 'Hitmonchan',\n",
       " 'Hitmonlee',\n",
       " 'Hitmontop',\n",
       " 'Ho-oh',\n",
       " 'Honchkrow',\n",
       " 'Honedge',\n",
       " 'HoopaHoopa Confined',\n",
       " 'HoopaHoopa Unbound',\n",
       " 'Hoothoot',\n",
       " 'Hoppip',\n",
       " 'Horsea',\n",
       " 'Houndoom',\n",
       " 'HoundoomMega Houndoom',\n",
       " 'Houndour',\n",
       " 'Huntail',\n",
       " 'Hydreigon',\n",
       " 'Hypno',\n",
       " 'Igglybuff',\n",
       " 'Illumise',\n",
       " 'Infernape',\n",
       " 'Inkay',\n",
       " 'Ivysaur',\n",
       " 'Jellicent',\n",
       " 'Jigglypuff',\n",
       " 'Jirachi',\n",
       " 'Jolteon',\n",
       " 'Joltik',\n",
       " 'Jumpluff',\n",
       " 'Jynx',\n",
       " 'Kabuto',\n",
       " 'Kabutops',\n",
       " 'Kadabra',\n",
       " 'Kakuna',\n",
       " 'Kangaskhan',\n",
       " 'KangaskhanMega Kangaskhan',\n",
       " 'Karrablast',\n",
       " 'Kecleon',\n",
       " 'KeldeoOrdinary Forme',\n",
       " 'KeldeoResolute Forme',\n",
       " 'Kingdra',\n",
       " 'Kingler',\n",
       " 'Kirlia',\n",
       " 'Klang',\n",
       " 'Klefki',\n",
       " 'Klink',\n",
       " 'Klinklang',\n",
       " 'Koffing',\n",
       " 'Krabby',\n",
       " 'Kricketot',\n",
       " 'Kricketune',\n",
       " 'Krokorok',\n",
       " 'Krookodile',\n",
       " 'Kyogre',\n",
       " 'KyogrePrimal Kyogre',\n",
       " 'Kyurem',\n",
       " 'KyuremBlack Kyurem',\n",
       " 'KyuremWhite Kyurem',\n",
       " 'Lairon',\n",
       " 'Lampent',\n",
       " 'LandorusIncarnate Forme',\n",
       " 'LandorusTherian Forme',\n",
       " 'Lanturn',\n",
       " 'Lapras',\n",
       " 'Larvesta',\n",
       " 'Larvitar',\n",
       " 'Latias',\n",
       " 'LatiasMega Latias',\n",
       " 'Latios',\n",
       " 'LatiosMega Latios',\n",
       " 'Leafeon',\n",
       " 'Leavanny',\n",
       " 'Ledian',\n",
       " 'Ledyba',\n",
       " 'Lickilicky',\n",
       " 'Lickitung',\n",
       " 'Liepard',\n",
       " 'Lileep',\n",
       " 'Lilligant',\n",
       " 'Lillipup',\n",
       " 'Linoone',\n",
       " 'Litleo',\n",
       " 'Litwick',\n",
       " 'Lombre',\n",
       " 'Lopunny',\n",
       " 'LopunnyMega Lopunny',\n",
       " 'Lotad',\n",
       " 'Loudred',\n",
       " 'Lucario',\n",
       " 'LucarioMega Lucario',\n",
       " 'Ludicolo',\n",
       " 'Lugia',\n",
       " 'Lumineon',\n",
       " 'Lunatone',\n",
       " 'Luvdisc',\n",
       " 'Luxio',\n",
       " 'Luxray',\n",
       " 'Machamp',\n",
       " 'Machoke',\n",
       " 'Machop',\n",
       " 'Magby',\n",
       " 'Magcargo',\n",
       " 'Magikarp',\n",
       " 'Magmar',\n",
       " 'Magmortar',\n",
       " 'Magnemite',\n",
       " 'Magneton',\n",
       " 'Magnezone',\n",
       " 'Makuhita',\n",
       " 'Malamar',\n",
       " 'Mamoswine',\n",
       " 'Manaphy',\n",
       " 'Mandibuzz',\n",
       " 'Manectric',\n",
       " 'ManectricMega Manectric',\n",
       " 'Mankey',\n",
       " 'Mantine',\n",
       " 'Mantyke',\n",
       " 'Maractus',\n",
       " 'Mareep',\n",
       " 'Marill',\n",
       " 'Marowak',\n",
       " 'Marshtomp',\n",
       " 'Masquerain',\n",
       " 'Mawile',\n",
       " 'MawileMega Mawile',\n",
       " 'Medicham',\n",
       " 'MedichamMega Medicham',\n",
       " 'Meditite',\n",
       " 'Meganium',\n",
       " 'MeloettaAria Forme',\n",
       " 'MeloettaPirouette Forme',\n",
       " 'MeowsticFemale',\n",
       " 'MeowsticMale',\n",
       " 'Meowth',\n",
       " 'Mesprit',\n",
       " 'Metagross',\n",
       " 'MetagrossMega Metagross',\n",
       " 'Metang',\n",
       " 'Metapod',\n",
       " 'Mew',\n",
       " 'Mewtwo',\n",
       " 'MewtwoMega Mewtwo X',\n",
       " 'MewtwoMega Mewtwo Y',\n",
       " 'Mienfoo',\n",
       " 'Mienshao',\n",
       " 'Mightyena',\n",
       " 'Milotic',\n",
       " 'Miltank',\n",
       " 'Mime Jr.',\n",
       " 'Minccino',\n",
       " 'Minun',\n",
       " 'Misdreavus',\n",
       " 'Mismagius',\n",
       " 'Moltres',\n",
       " 'Monferno',\n",
       " 'Mothim',\n",
       " 'Mr. Mime',\n",
       " 'Mudkip',\n",
       " 'Muk',\n",
       " 'Munchlax',\n",
       " 'Munna',\n",
       " 'Murkrow',\n",
       " 'Musharna',\n",
       " 'Natu',\n",
       " 'Nidoking',\n",
       " 'Nidoqueen',\n",
       " 'Nidoran♀',\n",
       " 'Nidoran♂',\n",
       " 'Nidorina',\n",
       " 'Nidorino',\n",
       " 'Nincada',\n",
       " 'Ninetales',\n",
       " 'Ninjask',\n",
       " 'Noctowl',\n",
       " 'Noibat',\n",
       " 'Noivern',\n",
       " 'Nosepass',\n",
       " 'Numel',\n",
       " 'Nuzleaf',\n",
       " 'Octillery',\n",
       " 'Oddish',\n",
       " 'Omanyte',\n",
       " 'Omastar',\n",
       " 'Onix',\n",
       " 'Oshawott',\n",
       " 'Pachirisu',\n",
       " 'Palkia',\n",
       " 'Palpitoad',\n",
       " 'Pancham',\n",
       " 'Pangoro',\n",
       " 'Panpour',\n",
       " 'Pansage',\n",
       " 'Pansear',\n",
       " 'Paras',\n",
       " 'Parasect',\n",
       " 'Patrat',\n",
       " 'Pawniard',\n",
       " 'Pelipper',\n",
       " 'Persian',\n",
       " 'Petilil',\n",
       " 'Phanpy',\n",
       " 'Phantump',\n",
       " 'Phione',\n",
       " 'Pichu',\n",
       " 'Pidgeot',\n",
       " 'PidgeotMega Pidgeot',\n",
       " 'Pidgeotto',\n",
       " 'Pidgey',\n",
       " 'Pidove',\n",
       " 'Pignite',\n",
       " 'Pikachu',\n",
       " 'Piloswine',\n",
       " 'Pineco',\n",
       " 'Pinsir',\n",
       " 'PinsirMega Pinsir',\n",
       " 'Piplup',\n",
       " 'Plusle',\n",
       " 'Politoed',\n",
       " 'Poliwag',\n",
       " 'Poliwhirl',\n",
       " 'Poliwrath',\n",
       " 'Ponyta',\n",
       " 'Poochyena',\n",
       " 'Porygon',\n",
       " 'Porygon-Z',\n",
       " 'Porygon2',\n",
       " 'Primeape',\n",
       " 'Prinplup',\n",
       " 'Probopass',\n",
       " 'Psyduck',\n",
       " 'PumpkabooAverage Size',\n",
       " 'PumpkabooLarge Size',\n",
       " 'PumpkabooSmall Size',\n",
       " 'PumpkabooSuper Size',\n",
       " 'Pupitar',\n",
       " 'Purrloin',\n",
       " 'Purugly',\n",
       " 'Pyroar',\n",
       " 'Quagsire',\n",
       " 'Quilava',\n",
       " 'Quilladin',\n",
       " 'Qwilfish',\n",
       " 'Raichu',\n",
       " 'Raikou',\n",
       " 'Ralts',\n",
       " 'Rampardos',\n",
       " 'Rapidash',\n",
       " 'Raticate',\n",
       " 'Rattata',\n",
       " 'Rayquaza',\n",
       " 'RayquazaMega Rayquaza',\n",
       " 'Regice',\n",
       " 'Regigigas',\n",
       " 'Regirock',\n",
       " 'Registeel',\n",
       " 'Relicanth',\n",
       " 'Remoraid',\n",
       " 'Reshiram',\n",
       " 'Reuniclus',\n",
       " 'Rhydon',\n",
       " 'Rhyhorn',\n",
       " 'Rhyperior',\n",
       " 'Riolu',\n",
       " 'Roggenrola',\n",
       " 'Roselia',\n",
       " 'Roserade',\n",
       " 'Rotom',\n",
       " 'RotomFan Rotom',\n",
       " 'RotomFrost Rotom',\n",
       " 'RotomHeat Rotom',\n",
       " 'RotomMow Rotom',\n",
       " 'RotomWash Rotom',\n",
       " 'Rufflet',\n",
       " 'Sableye',\n",
       " 'SableyeMega Sableye',\n",
       " 'Salamence',\n",
       " 'SalamenceMega Salamence',\n",
       " 'Samurott',\n",
       " 'Sandile',\n",
       " 'Sandshrew',\n",
       " 'Sandslash',\n",
       " 'Sawk',\n",
       " 'Sawsbuck',\n",
       " 'Scatterbug',\n",
       " 'Sceptile',\n",
       " 'SceptileMega Sceptile',\n",
       " 'Scizor',\n",
       " 'ScizorMega Scizor',\n",
       " 'Scolipede',\n",
       " 'Scrafty',\n",
       " 'Scraggy',\n",
       " 'Scyther',\n",
       " 'Seadra',\n",
       " 'Seaking',\n",
       " 'Sealeo',\n",
       " 'Seedot',\n",
       " 'Seel',\n",
       " 'Seismitoad',\n",
       " 'Sentret',\n",
       " 'Serperior',\n",
       " 'Servine',\n",
       " 'Seviper',\n",
       " 'Sewaddle',\n",
       " 'Sharpedo',\n",
       " 'SharpedoMega Sharpedo',\n",
       " 'ShayminLand Forme',\n",
       " 'ShayminSky Forme',\n",
       " 'Shedinja',\n",
       " 'Shelgon',\n",
       " 'Shellder',\n",
       " 'Shellos',\n",
       " 'Shelmet',\n",
       " 'Shieldon',\n",
       " 'Shiftry',\n",
       " 'Shinx',\n",
       " 'Shroomish',\n",
       " 'Shuckle',\n",
       " 'Shuppet',\n",
       " 'Sigilyph',\n",
       " 'Silcoon',\n",
       " 'Simipour',\n",
       " 'Simisage',\n",
       " 'Simisear',\n",
       " 'Skarmory',\n",
       " 'Skiddo',\n",
       " 'Skiploom',\n",
       " 'Skitty',\n",
       " 'Skorupi',\n",
       " 'Skrelp',\n",
       " 'Skuntank',\n",
       " 'Slaking',\n",
       " 'Slakoth',\n",
       " 'Sliggoo',\n",
       " 'Slowbro',\n",
       " 'SlowbroMega Slowbro',\n",
       " 'Slowking',\n",
       " 'Slowpoke',\n",
       " 'Slugma',\n",
       " 'Slurpuff',\n",
       " 'Smeargle',\n",
       " 'Smoochum',\n",
       " 'Sneasel',\n",
       " 'Snivy',\n",
       " 'Snorlax',\n",
       " 'Snorunt',\n",
       " 'Snover',\n",
       " 'Snubbull',\n",
       " 'Solosis',\n",
       " 'Solrock',\n",
       " 'Spearow',\n",
       " 'Spewpa',\n",
       " 'Spheal',\n",
       " 'Spinarak',\n",
       " 'Spinda',\n",
       " 'Spiritomb',\n",
       " 'Spoink',\n",
       " 'Spritzee',\n",
       " 'Squirtle',\n",
       " 'Stantler',\n",
       " 'Staraptor',\n",
       " 'Staravia',\n",
       " 'Starly',\n",
       " 'Starmie',\n",
       " 'Staryu',\n",
       " 'Steelix',\n",
       " 'SteelixMega Steelix',\n",
       " 'Stoutland',\n",
       " 'Stunfisk',\n",
       " 'Stunky',\n",
       " 'Sudowoodo',\n",
       " 'Suicune',\n",
       " 'Sunflora',\n",
       " 'Sunkern',\n",
       " 'Surskit',\n",
       " 'Swablu',\n",
       " 'Swadloon',\n",
       " 'Swalot',\n",
       " 'Swampert',\n",
       " 'SwampertMega Swampert',\n",
       " 'Swanna',\n",
       " 'Swellow',\n",
       " 'Swinub',\n",
       " 'Swirlix',\n",
       " 'Swoobat',\n",
       " 'Sylveon',\n",
       " 'Taillow',\n",
       " 'Talonflame',\n",
       " 'Tangela',\n",
       " 'Tangrowth',\n",
       " 'Tauros',\n",
       " 'Teddiursa',\n",
       " 'Tentacool',\n",
       " 'Tentacruel',\n",
       " 'Tepig',\n",
       " 'Terrakion',\n",
       " 'Throh',\n",
       " 'ThundurusIncarnate Forme',\n",
       " 'ThundurusTherian Forme',\n",
       " 'Timburr',\n",
       " 'Tirtouga',\n",
       " 'Togekiss',\n",
       " 'Togepi',\n",
       " 'Togetic',\n",
       " 'Torchic',\n",
       " 'Torkoal',\n",
       " 'TornadusIncarnate Forme',\n",
       " 'TornadusTherian Forme',\n",
       " 'Torterra',\n",
       " 'Totodile',\n",
       " 'Toxicroak',\n",
       " 'Tranquill',\n",
       " 'Trapinch',\n",
       " 'Treecko',\n",
       " 'Trevenant',\n",
       " 'Tropius',\n",
       " 'Trubbish',\n",
       " 'Turtwig',\n",
       " 'Tympole',\n",
       " 'Tynamo',\n",
       " 'Typhlosion',\n",
       " 'Tyranitar',\n",
       " 'TyranitarMega Tyranitar',\n",
       " 'Tyrantrum',\n",
       " 'Tyrogue',\n",
       " 'Tyrunt',\n",
       " 'Umbreon',\n",
       " 'Unfezant',\n",
       " 'Unown',\n",
       " 'Ursaring',\n",
       " 'Uxie',\n",
       " 'Vanillish',\n",
       " 'Vanillite',\n",
       " 'Vanilluxe',\n",
       " 'Vaporeon',\n",
       " 'Venipede',\n",
       " 'Venomoth',\n",
       " 'Venonat',\n",
       " 'Venusaur',\n",
       " 'VenusaurMega Venusaur',\n",
       " 'Vespiquen',\n",
       " 'Vibrava',\n",
       " 'Victini',\n",
       " 'Victreebel',\n",
       " 'Vigoroth',\n",
       " 'Vileplume',\n",
       " 'Virizion',\n",
       " 'Vivillon',\n",
       " 'Volbeat',\n",
       " 'Volcanion',\n",
       " 'Volcarona',\n",
       " 'Voltorb',\n",
       " 'Vullaby',\n",
       " 'Vulpix',\n",
       " 'Wailmer',\n",
       " 'Wailord',\n",
       " 'Walrein',\n",
       " 'Wartortle',\n",
       " 'Watchog',\n",
       " 'Weavile',\n",
       " 'Weedle',\n",
       " 'Weepinbell',\n",
       " 'Weezing',\n",
       " 'Whimsicott',\n",
       " 'Whirlipede',\n",
       " 'Whiscash',\n",
       " 'Whismur',\n",
       " 'Wigglytuff',\n",
       " 'Wingull',\n",
       " 'Wobbuffet',\n",
       " 'Woobat',\n",
       " 'Wooper',\n",
       " 'WormadamPlant Cloak',\n",
       " 'WormadamSandy Cloak',\n",
       " 'WormadamTrash Cloak',\n",
       " 'Wurmple',\n",
       " 'Wynaut',\n",
       " 'Xatu',\n",
       " 'Xerneas',\n",
       " 'Yamask',\n",
       " 'Yanma',\n",
       " 'Yanmega',\n",
       " 'Yveltal',\n",
       " 'Zangoose',\n",
       " 'Zapdos',\n",
       " 'Zebstrika',\n",
       " 'Zekrom',\n",
       " 'Zigzagoon',\n",
       " 'Zoroark',\n",
       " 'Zorua',\n",
       " 'Zubat',\n",
       " 'Zweilous',\n",
       " 'Zygarde50% Forme']"
      ]
     },
     "execution_count": 75,
     "metadata": {},
     "output_type": "execute_result"
    }
   ],
   "source": [
    "#sortowanie alfabetyczne\n",
    "sorted(obj)"
   ]
  },
  {
   "cell_type": "code",
   "execution_count": 76,
   "id": "12afbdaa",
   "metadata": {},
   "outputs": [
    {
     "data": {
      "text/plain": [
       "['Bulbasaur',\n",
       " 'Ivysaur',\n",
       " 'Venusaur',\n",
       " 'VenusaurMega Venusaur',\n",
       " 'Charmander',\n",
       " 'Charmeleon',\n",
       " 'Charizard',\n",
       " 'CharizardMega Charizard X',\n",
       " 'CharizardMega Charizard Y',\n",
       " 'Squirtle',\n",
       " 'Wartortle',\n",
       " 'Blastoise',\n",
       " 'BlastoiseMega Blastoise',\n",
       " 'Caterpie',\n",
       " 'Metapod',\n",
       " 'Butterfree',\n",
       " 'Weedle',\n",
       " 'Kakuna',\n",
       " 'Beedrill',\n",
       " 'BeedrillMega Beedrill',\n",
       " 'Pidgey',\n",
       " 'Pidgeotto',\n",
       " 'Pidgeot',\n",
       " 'PidgeotMega Pidgeot',\n",
       " 'Rattata',\n",
       " 'Raticate',\n",
       " 'Spearow',\n",
       " 'Fearow',\n",
       " 'Ekans',\n",
       " 'Arbok',\n",
       " 'Pikachu',\n",
       " 'Raichu',\n",
       " 'Sandshrew',\n",
       " 'Sandslash',\n",
       " 'Nidoran♀',\n",
       " 'Nidorina',\n",
       " 'Nidoqueen',\n",
       " 'Nidoran♂',\n",
       " 'Nidorino',\n",
       " 'Nidoking',\n",
       " 'Clefairy',\n",
       " 'Clefable',\n",
       " 'Vulpix',\n",
       " 'Ninetales',\n",
       " 'Jigglypuff',\n",
       " 'Wigglytuff',\n",
       " 'Zubat',\n",
       " 'Golbat',\n",
       " 'Oddish',\n",
       " 'Gloom',\n",
       " 'Vileplume',\n",
       " 'Paras',\n",
       " 'Parasect',\n",
       " 'Venonat',\n",
       " 'Venomoth',\n",
       " 'Diglett',\n",
       " 'Dugtrio',\n",
       " 'Meowth',\n",
       " 'Persian',\n",
       " 'Psyduck',\n",
       " 'Golduck',\n",
       " 'Mankey',\n",
       " 'Primeape',\n",
       " 'Growlithe',\n",
       " 'Arcanine',\n",
       " 'Poliwag',\n",
       " 'Poliwhirl',\n",
       " 'Poliwrath',\n",
       " 'Abra',\n",
       " 'Kadabra',\n",
       " 'Alakazam',\n",
       " 'AlakazamMega Alakazam',\n",
       " 'Machop',\n",
       " 'Machoke',\n",
       " 'Machamp',\n",
       " 'Bellsprout',\n",
       " 'Weepinbell',\n",
       " 'Victreebel',\n",
       " 'Tentacool',\n",
       " 'Tentacruel',\n",
       " 'Geodude',\n",
       " 'Graveler',\n",
       " 'Golem',\n",
       " 'Ponyta',\n",
       " 'Rapidash',\n",
       " 'Slowpoke',\n",
       " 'Slowbro',\n",
       " 'SlowbroMega Slowbro',\n",
       " 'Magnemite',\n",
       " 'Magneton',\n",
       " \"Farfetch'd\",\n",
       " 'Doduo',\n",
       " 'Dodrio',\n",
       " 'Seel',\n",
       " 'Dewgong',\n",
       " 'Grimer',\n",
       " 'Muk',\n",
       " 'Shellder',\n",
       " 'Cloyster',\n",
       " 'Gastly',\n",
       " 'Haunter',\n",
       " 'Gengar',\n",
       " 'GengarMega Gengar',\n",
       " 'Onix',\n",
       " 'Drowzee',\n",
       " 'Hypno',\n",
       " 'Krabby',\n",
       " 'Kingler',\n",
       " 'Voltorb',\n",
       " 'Electrode',\n",
       " 'Exeggcute',\n",
       " 'Exeggutor',\n",
       " 'Cubone',\n",
       " 'Marowak',\n",
       " 'Hitmonlee',\n",
       " 'Hitmonchan',\n",
       " 'Lickitung',\n",
       " 'Koffing',\n",
       " 'Weezing',\n",
       " 'Rhyhorn',\n",
       " 'Rhydon',\n",
       " 'Chansey',\n",
       " 'Tangela',\n",
       " 'Kangaskhan',\n",
       " 'KangaskhanMega Kangaskhan',\n",
       " 'Horsea',\n",
       " 'Seadra',\n",
       " 'Goldeen',\n",
       " 'Seaking',\n",
       " 'Staryu',\n",
       " 'Starmie',\n",
       " 'Mr. Mime',\n",
       " 'Scyther',\n",
       " 'Jynx',\n",
       " 'Electabuzz',\n",
       " 'Magmar',\n",
       " 'Pinsir',\n",
       " 'PinsirMega Pinsir',\n",
       " 'Tauros',\n",
       " 'Magikarp',\n",
       " 'Gyarados',\n",
       " 'GyaradosMega Gyarados',\n",
       " 'Lapras',\n",
       " 'Ditto',\n",
       " 'Eevee',\n",
       " 'Vaporeon',\n",
       " 'Jolteon',\n",
       " 'Flareon',\n",
       " 'Porygon',\n",
       " 'Omanyte',\n",
       " 'Omastar',\n",
       " 'Kabuto',\n",
       " 'Kabutops',\n",
       " 'Aerodactyl',\n",
       " 'AerodactylMega Aerodactyl',\n",
       " 'Snorlax',\n",
       " 'Articuno',\n",
       " 'Zapdos',\n",
       " 'Moltres',\n",
       " 'Dratini',\n",
       " 'Dragonair',\n",
       " 'Dragonite',\n",
       " 'Mewtwo',\n",
       " 'MewtwoMega Mewtwo X',\n",
       " 'MewtwoMega Mewtwo Y',\n",
       " 'Mew',\n",
       " 'Chikorita',\n",
       " 'Bayleef',\n",
       " 'Meganium',\n",
       " 'Cyndaquil',\n",
       " 'Quilava',\n",
       " 'Typhlosion',\n",
       " 'Totodile',\n",
       " 'Croconaw',\n",
       " 'Feraligatr',\n",
       " 'Sentret',\n",
       " 'Furret',\n",
       " 'Hoothoot',\n",
       " 'Noctowl',\n",
       " 'Ledyba',\n",
       " 'Ledian',\n",
       " 'Spinarak',\n",
       " 'Ariados',\n",
       " 'Crobat',\n",
       " 'Chinchou',\n",
       " 'Lanturn',\n",
       " 'Pichu',\n",
       " 'Cleffa',\n",
       " 'Igglybuff',\n",
       " 'Togepi',\n",
       " 'Togetic',\n",
       " 'Natu',\n",
       " 'Xatu',\n",
       " 'Mareep',\n",
       " 'Flaaffy',\n",
       " 'Ampharos',\n",
       " 'AmpharosMega Ampharos',\n",
       " 'Bellossom',\n",
       " 'Marill',\n",
       " 'Azumarill',\n",
       " 'Sudowoodo',\n",
       " 'Politoed',\n",
       " 'Hoppip',\n",
       " 'Skiploom',\n",
       " 'Jumpluff',\n",
       " 'Aipom',\n",
       " 'Sunkern',\n",
       " 'Sunflora',\n",
       " 'Yanma',\n",
       " 'Wooper',\n",
       " 'Quagsire',\n",
       " 'Espeon',\n",
       " 'Umbreon',\n",
       " 'Murkrow',\n",
       " 'Slowking',\n",
       " 'Misdreavus',\n",
       " 'Unown',\n",
       " 'Wobbuffet',\n",
       " 'Girafarig',\n",
       " 'Pineco',\n",
       " 'Forretress',\n",
       " 'Dunsparce',\n",
       " 'Gligar',\n",
       " 'Steelix',\n",
       " 'SteelixMega Steelix',\n",
       " 'Snubbull',\n",
       " 'Granbull',\n",
       " 'Qwilfish',\n",
       " 'Scizor',\n",
       " 'ScizorMega Scizor',\n",
       " 'Shuckle',\n",
       " 'Heracross',\n",
       " 'HeracrossMega Heracross',\n",
       " 'Sneasel',\n",
       " 'Teddiursa',\n",
       " 'Ursaring',\n",
       " 'Slugma',\n",
       " 'Magcargo',\n",
       " 'Swinub',\n",
       " 'Piloswine',\n",
       " 'Corsola',\n",
       " 'Remoraid',\n",
       " 'Octillery',\n",
       " 'Delibird',\n",
       " 'Mantine',\n",
       " 'Skarmory',\n",
       " 'Houndour',\n",
       " 'Houndoom',\n",
       " 'HoundoomMega Houndoom',\n",
       " 'Kingdra',\n",
       " 'Phanpy',\n",
       " 'Donphan',\n",
       " 'Porygon2',\n",
       " 'Stantler',\n",
       " 'Smeargle',\n",
       " 'Tyrogue',\n",
       " 'Hitmontop',\n",
       " 'Smoochum',\n",
       " 'Elekid',\n",
       " 'Magby',\n",
       " 'Miltank',\n",
       " 'Blissey',\n",
       " 'Raikou',\n",
       " 'Entei',\n",
       " 'Suicune',\n",
       " 'Larvitar',\n",
       " 'Pupitar',\n",
       " 'Tyranitar',\n",
       " 'TyranitarMega Tyranitar',\n",
       " 'Lugia',\n",
       " 'Ho-oh',\n",
       " 'Celebi',\n",
       " 'Treecko',\n",
       " 'Grovyle',\n",
       " 'Sceptile',\n",
       " 'SceptileMega Sceptile',\n",
       " 'Torchic',\n",
       " 'Combusken',\n",
       " 'Blaziken',\n",
       " 'BlazikenMega Blaziken',\n",
       " 'Mudkip',\n",
       " 'Marshtomp',\n",
       " 'Swampert',\n",
       " 'SwampertMega Swampert',\n",
       " 'Poochyena',\n",
       " 'Mightyena',\n",
       " 'Zigzagoon',\n",
       " 'Linoone',\n",
       " 'Wurmple',\n",
       " 'Silcoon',\n",
       " 'Beautifly',\n",
       " 'Cascoon',\n",
       " 'Dustox',\n",
       " 'Lotad',\n",
       " 'Lombre',\n",
       " 'Ludicolo',\n",
       " 'Seedot',\n",
       " 'Nuzleaf',\n",
       " 'Shiftry',\n",
       " 'Taillow',\n",
       " 'Swellow',\n",
       " 'Wingull',\n",
       " 'Pelipper',\n",
       " 'Ralts',\n",
       " 'Kirlia',\n",
       " 'Gardevoir',\n",
       " 'GardevoirMega Gardevoir',\n",
       " 'Surskit',\n",
       " 'Masquerain',\n",
       " 'Shroomish',\n",
       " 'Breloom',\n",
       " 'Slakoth',\n",
       " 'Vigoroth',\n",
       " 'Slaking',\n",
       " 'Nincada',\n",
       " 'Ninjask',\n",
       " 'Shedinja',\n",
       " 'Whismur',\n",
       " 'Loudred',\n",
       " 'Exploud',\n",
       " 'Makuhita',\n",
       " 'Hariyama',\n",
       " 'Azurill',\n",
       " 'Nosepass',\n",
       " 'Skitty',\n",
       " 'Delcatty',\n",
       " 'Sableye',\n",
       " 'SableyeMega Sableye',\n",
       " 'Mawile',\n",
       " 'MawileMega Mawile',\n",
       " 'Aron',\n",
       " 'Lairon',\n",
       " 'Aggron',\n",
       " 'AggronMega Aggron',\n",
       " 'Meditite',\n",
       " 'Medicham',\n",
       " 'MedichamMega Medicham',\n",
       " 'Electrike',\n",
       " 'Manectric',\n",
       " 'ManectricMega Manectric',\n",
       " 'Plusle',\n",
       " 'Minun',\n",
       " 'Volbeat',\n",
       " 'Illumise',\n",
       " 'Roselia',\n",
       " 'Gulpin',\n",
       " 'Swalot',\n",
       " 'Carvanha',\n",
       " 'Sharpedo',\n",
       " 'SharpedoMega Sharpedo',\n",
       " 'Wailmer',\n",
       " 'Wailord',\n",
       " 'Numel',\n",
       " 'Camerupt',\n",
       " 'CameruptMega Camerupt',\n",
       " 'Torkoal',\n",
       " 'Spoink',\n",
       " 'Grumpig',\n",
       " 'Spinda',\n",
       " 'Trapinch',\n",
       " 'Vibrava',\n",
       " 'Flygon',\n",
       " 'Cacnea',\n",
       " 'Cacturne',\n",
       " 'Swablu',\n",
       " 'Altaria',\n",
       " 'AltariaMega Altaria',\n",
       " 'Zangoose',\n",
       " 'Seviper',\n",
       " 'Lunatone',\n",
       " 'Solrock',\n",
       " 'Barboach',\n",
       " 'Whiscash',\n",
       " 'Corphish',\n",
       " 'Crawdaunt',\n",
       " 'Baltoy',\n",
       " 'Claydol',\n",
       " 'Lileep',\n",
       " 'Cradily',\n",
       " 'Anorith',\n",
       " 'Armaldo',\n",
       " 'Feebas',\n",
       " 'Milotic',\n",
       " 'Castform',\n",
       " 'Kecleon',\n",
       " 'Shuppet',\n",
       " 'Banette',\n",
       " 'BanetteMega Banette',\n",
       " 'Duskull',\n",
       " 'Dusclops',\n",
       " 'Tropius',\n",
       " 'Chimecho',\n",
       " 'Absol',\n",
       " 'AbsolMega Absol',\n",
       " 'Wynaut',\n",
       " 'Snorunt',\n",
       " 'Glalie',\n",
       " 'GlalieMega Glalie',\n",
       " 'Spheal',\n",
       " 'Sealeo',\n",
       " 'Walrein',\n",
       " 'Clamperl',\n",
       " 'Huntail',\n",
       " 'Gorebyss',\n",
       " 'Relicanth',\n",
       " 'Luvdisc',\n",
       " 'Bagon',\n",
       " 'Shelgon',\n",
       " 'Salamence',\n",
       " 'SalamenceMega Salamence',\n",
       " 'Beldum',\n",
       " 'Metang',\n",
       " 'Metagross',\n",
       " 'MetagrossMega Metagross',\n",
       " 'Regirock',\n",
       " 'Regice',\n",
       " 'Registeel',\n",
       " 'Latias',\n",
       " 'LatiasMega Latias',\n",
       " 'Latios',\n",
       " 'LatiosMega Latios',\n",
       " 'Kyogre',\n",
       " 'KyogrePrimal Kyogre',\n",
       " 'Groudon',\n",
       " 'GroudonPrimal Groudon',\n",
       " 'Rayquaza',\n",
       " 'RayquazaMega Rayquaza',\n",
       " 'Jirachi',\n",
       " 'DeoxysNormal Forme',\n",
       " 'DeoxysAttack Forme',\n",
       " 'DeoxysDefense Forme',\n",
       " 'DeoxysSpeed Forme',\n",
       " 'Turtwig',\n",
       " 'Grotle',\n",
       " 'Torterra',\n",
       " 'Chimchar',\n",
       " 'Monferno',\n",
       " 'Infernape',\n",
       " 'Piplup',\n",
       " 'Prinplup',\n",
       " 'Empoleon',\n",
       " 'Starly',\n",
       " 'Staravia',\n",
       " 'Staraptor',\n",
       " 'Bidoof',\n",
       " 'Bibarel',\n",
       " 'Kricketot',\n",
       " 'Kricketune',\n",
       " 'Shinx',\n",
       " 'Luxio',\n",
       " 'Luxray',\n",
       " 'Budew',\n",
       " 'Roserade',\n",
       " 'Cranidos',\n",
       " 'Rampardos',\n",
       " 'Shieldon',\n",
       " 'Bastiodon',\n",
       " 'Burmy',\n",
       " 'WormadamPlant Cloak',\n",
       " 'WormadamSandy Cloak',\n",
       " 'WormadamTrash Cloak',\n",
       " 'Mothim',\n",
       " 'Combee',\n",
       " 'Vespiquen',\n",
       " 'Pachirisu',\n",
       " 'Buizel',\n",
       " 'Floatzel',\n",
       " 'Cherubi',\n",
       " 'Cherrim',\n",
       " 'Shellos',\n",
       " 'Gastrodon',\n",
       " 'Ambipom',\n",
       " 'Drifloon',\n",
       " 'Drifblim',\n",
       " 'Buneary',\n",
       " 'Lopunny',\n",
       " 'LopunnyMega Lopunny',\n",
       " 'Mismagius',\n",
       " 'Honchkrow',\n",
       " 'Glameow',\n",
       " 'Purugly',\n",
       " 'Chingling',\n",
       " 'Stunky',\n",
       " 'Skuntank',\n",
       " 'Bronzor',\n",
       " 'Bronzong',\n",
       " 'Bonsly',\n",
       " 'Mime Jr.',\n",
       " 'Happiny',\n",
       " 'Chatot',\n",
       " 'Spiritomb',\n",
       " 'Gible',\n",
       " 'Gabite',\n",
       " 'Garchomp',\n",
       " 'GarchompMega Garchomp',\n",
       " 'Munchlax',\n",
       " 'Riolu',\n",
       " 'Lucario',\n",
       " 'LucarioMega Lucario',\n",
       " 'Hippopotas',\n",
       " 'Hippowdon',\n",
       " 'Skorupi',\n",
       " 'Drapion',\n",
       " 'Croagunk',\n",
       " 'Toxicroak',\n",
       " 'Carnivine',\n",
       " 'Finneon',\n",
       " 'Lumineon',\n",
       " 'Mantyke',\n",
       " 'Snover',\n",
       " 'Abomasnow',\n",
       " 'AbomasnowMega Abomasnow',\n",
       " 'Weavile',\n",
       " 'Magnezone',\n",
       " 'Lickilicky',\n",
       " 'Rhyperior',\n",
       " 'Tangrowth',\n",
       " 'Electivire',\n",
       " 'Magmortar',\n",
       " 'Togekiss',\n",
       " 'Yanmega',\n",
       " 'Leafeon',\n",
       " 'Glaceon',\n",
       " 'Gliscor',\n",
       " 'Mamoswine',\n",
       " 'Porygon-Z',\n",
       " 'Gallade',\n",
       " 'GalladeMega Gallade',\n",
       " 'Probopass',\n",
       " 'Dusknoir',\n",
       " 'Froslass',\n",
       " 'Rotom',\n",
       " 'RotomHeat Rotom',\n",
       " 'RotomWash Rotom',\n",
       " 'RotomFrost Rotom',\n",
       " 'RotomFan Rotom',\n",
       " 'RotomMow Rotom',\n",
       " 'Uxie',\n",
       " 'Mesprit',\n",
       " 'Azelf',\n",
       " 'Dialga',\n",
       " 'Palkia',\n",
       " 'Heatran',\n",
       " 'Regigigas',\n",
       " 'GiratinaAltered Forme',\n",
       " 'GiratinaOrigin Forme',\n",
       " 'Cresselia',\n",
       " 'Phione',\n",
       " 'Manaphy',\n",
       " 'Darkrai',\n",
       " 'ShayminLand Forme',\n",
       " 'ShayminSky Forme',\n",
       " 'Arceus',\n",
       " 'Victini',\n",
       " 'Snivy',\n",
       " 'Servine',\n",
       " 'Serperior',\n",
       " 'Tepig',\n",
       " 'Pignite',\n",
       " 'Emboar',\n",
       " 'Oshawott',\n",
       " 'Dewott',\n",
       " 'Samurott',\n",
       " 'Patrat',\n",
       " 'Watchog',\n",
       " 'Lillipup',\n",
       " 'Herdier',\n",
       " 'Stoutland',\n",
       " 'Purrloin',\n",
       " 'Liepard',\n",
       " 'Pansage',\n",
       " 'Simisage',\n",
       " 'Pansear',\n",
       " 'Simisear',\n",
       " 'Panpour',\n",
       " 'Simipour',\n",
       " 'Munna',\n",
       " 'Musharna',\n",
       " 'Pidove',\n",
       " 'Tranquill',\n",
       " 'Unfezant',\n",
       " 'Blitzle',\n",
       " 'Zebstrika',\n",
       " 'Roggenrola',\n",
       " 'Boldore',\n",
       " 'Gigalith',\n",
       " 'Woobat',\n",
       " 'Swoobat',\n",
       " 'Drilbur',\n",
       " 'Excadrill',\n",
       " 'Audino',\n",
       " 'AudinoMega Audino',\n",
       " 'Timburr',\n",
       " 'Gurdurr',\n",
       " 'Conkeldurr',\n",
       " 'Tympole',\n",
       " 'Palpitoad',\n",
       " 'Seismitoad',\n",
       " 'Throh',\n",
       " 'Sawk',\n",
       " 'Sewaddle',\n",
       " 'Swadloon',\n",
       " 'Leavanny',\n",
       " 'Venipede',\n",
       " 'Whirlipede',\n",
       " 'Scolipede',\n",
       " 'Cottonee',\n",
       " 'Whimsicott',\n",
       " 'Petilil',\n",
       " 'Lilligant',\n",
       " 'Basculin',\n",
       " 'Sandile',\n",
       " 'Krokorok',\n",
       " 'Krookodile',\n",
       " 'Darumaka',\n",
       " 'DarmanitanStandard Mode',\n",
       " 'DarmanitanZen Mode',\n",
       " 'Maractus',\n",
       " 'Dwebble',\n",
       " 'Crustle',\n",
       " 'Scraggy',\n",
       " 'Scrafty',\n",
       " 'Sigilyph',\n",
       " 'Yamask',\n",
       " 'Cofagrigus',\n",
       " 'Tirtouga',\n",
       " 'Carracosta',\n",
       " 'Archen',\n",
       " 'Archeops',\n",
       " 'Trubbish',\n",
       " 'Garbodor',\n",
       " 'Zorua',\n",
       " 'Zoroark',\n",
       " 'Minccino',\n",
       " 'Cinccino',\n",
       " 'Gothita',\n",
       " 'Gothorita',\n",
       " 'Gothitelle',\n",
       " 'Solosis',\n",
       " 'Duosion',\n",
       " 'Reuniclus',\n",
       " 'Ducklett',\n",
       " 'Swanna',\n",
       " 'Vanillite',\n",
       " 'Vanillish',\n",
       " 'Vanilluxe',\n",
       " 'Deerling',\n",
       " 'Sawsbuck',\n",
       " 'Emolga',\n",
       " 'Karrablast',\n",
       " 'Escavalier',\n",
       " 'Foongus',\n",
       " 'Amoonguss',\n",
       " 'Frillish',\n",
       " 'Jellicent',\n",
       " 'Alomomola',\n",
       " 'Joltik',\n",
       " 'Galvantula',\n",
       " 'Ferroseed',\n",
       " 'Ferrothorn',\n",
       " 'Klink',\n",
       " 'Klang',\n",
       " 'Klinklang',\n",
       " 'Tynamo',\n",
       " 'Eelektrik',\n",
       " 'Eelektross',\n",
       " 'Elgyem',\n",
       " 'Beheeyem',\n",
       " 'Litwick',\n",
       " 'Lampent',\n",
       " 'Chandelure',\n",
       " 'Axew',\n",
       " 'Fraxure',\n",
       " 'Haxorus',\n",
       " 'Cubchoo',\n",
       " 'Beartic',\n",
       " 'Cryogonal',\n",
       " 'Shelmet',\n",
       " 'Accelgor',\n",
       " 'Stunfisk',\n",
       " 'Mienfoo',\n",
       " 'Mienshao',\n",
       " 'Druddigon',\n",
       " 'Golett',\n",
       " 'Golurk',\n",
       " 'Pawniard',\n",
       " 'Bisharp',\n",
       " 'Bouffalant',\n",
       " 'Rufflet',\n",
       " 'Braviary',\n",
       " 'Vullaby',\n",
       " 'Mandibuzz',\n",
       " 'Heatmor',\n",
       " 'Durant',\n",
       " 'Deino',\n",
       " 'Zweilous',\n",
       " 'Hydreigon',\n",
       " 'Larvesta',\n",
       " 'Volcarona',\n",
       " 'Cobalion',\n",
       " 'Terrakion',\n",
       " 'Virizion',\n",
       " 'TornadusIncarnate Forme',\n",
       " 'TornadusTherian Forme',\n",
       " 'ThundurusIncarnate Forme',\n",
       " 'ThundurusTherian Forme',\n",
       " 'Reshiram',\n",
       " 'Zekrom',\n",
       " 'LandorusIncarnate Forme',\n",
       " 'LandorusTherian Forme',\n",
       " 'Kyurem',\n",
       " 'KyuremBlack Kyurem',\n",
       " 'KyuremWhite Kyurem',\n",
       " 'KeldeoOrdinary Forme',\n",
       " 'KeldeoResolute Forme',\n",
       " 'MeloettaAria Forme',\n",
       " 'MeloettaPirouette Forme',\n",
       " 'Genesect',\n",
       " 'Chespin',\n",
       " 'Quilladin',\n",
       " 'Chesnaught',\n",
       " 'Fennekin',\n",
       " 'Braixen',\n",
       " 'Delphox',\n",
       " 'Froakie',\n",
       " 'Frogadier',\n",
       " 'Greninja',\n",
       " 'Bunnelby',\n",
       " 'Diggersby',\n",
       " 'Fletchling',\n",
       " 'Fletchinder',\n",
       " 'Talonflame',\n",
       " 'Scatterbug',\n",
       " 'Spewpa',\n",
       " 'Vivillon',\n",
       " 'Litleo',\n",
       " 'Pyroar',\n",
       " 'Flabébé',\n",
       " 'Floette',\n",
       " 'Florges',\n",
       " 'Skiddo',\n",
       " 'Gogoat',\n",
       " 'Pancham',\n",
       " 'Pangoro',\n",
       " 'Furfrou',\n",
       " 'Espurr',\n",
       " 'MeowsticMale',\n",
       " 'MeowsticFemale',\n",
       " 'Honedge',\n",
       " 'Doublade',\n",
       " 'AegislashBlade Forme',\n",
       " 'AegislashShield Forme',\n",
       " 'Spritzee',\n",
       " 'Aromatisse',\n",
       " 'Swirlix',\n",
       " 'Slurpuff',\n",
       " 'Inkay',\n",
       " 'Malamar',\n",
       " 'Binacle',\n",
       " 'Barbaracle',\n",
       " 'Skrelp',\n",
       " 'Dragalge',\n",
       " 'Clauncher',\n",
       " 'Clawitzer',\n",
       " 'Helioptile',\n",
       " 'Heliolisk',\n",
       " 'Tyrunt',\n",
       " 'Tyrantrum',\n",
       " 'Amaura',\n",
       " 'Aurorus',\n",
       " 'Sylveon',\n",
       " 'Hawlucha',\n",
       " 'Dedenne',\n",
       " 'Carbink',\n",
       " 'Goomy',\n",
       " 'Sliggoo',\n",
       " 'Goodra',\n",
       " 'Klefki',\n",
       " 'Phantump',\n",
       " 'Trevenant',\n",
       " 'PumpkabooAverage Size',\n",
       " 'PumpkabooSmall Size',\n",
       " 'PumpkabooLarge Size',\n",
       " 'PumpkabooSuper Size',\n",
       " 'GourgeistAverage Size',\n",
       " 'GourgeistSmall Size',\n",
       " 'GourgeistLarge Size',\n",
       " 'GourgeistSuper Size',\n",
       " 'Bergmite',\n",
       " 'Avalugg',\n",
       " 'Noibat',\n",
       " 'Noivern',\n",
       " 'Xerneas',\n",
       " 'Yveltal',\n",
       " 'Zygarde50% Forme',\n",
       " 'Diancie',\n",
       " 'DiancieMega Diancie',\n",
       " 'HoopaHoopa Confined',\n",
       " 'HoopaHoopa Unbound',\n",
       " 'Volcanion']"
      ]
     },
     "execution_count": 76,
     "metadata": {},
     "output_type": "execute_result"
    }
   ],
   "source": [
    "#konwersja na listę\n",
    "list(obj)"
   ]
  },
  {
   "cell_type": "code",
   "execution_count": 77,
   "id": "f32a9fbb",
   "metadata": {},
   "outputs": [
    {
     "data": {
      "text/plain": [
       "{0: 'Bulbasaur',\n",
       " 1: 'Ivysaur',\n",
       " 2: 'Venusaur',\n",
       " 3: 'VenusaurMega Venusaur',\n",
       " 4: 'Charmander',\n",
       " 5: 'Charmeleon',\n",
       " 6: 'Charizard',\n",
       " 7: 'CharizardMega Charizard X',\n",
       " 8: 'CharizardMega Charizard Y',\n",
       " 9: 'Squirtle',\n",
       " 10: 'Wartortle',\n",
       " 11: 'Blastoise',\n",
       " 12: 'BlastoiseMega Blastoise',\n",
       " 13: 'Caterpie',\n",
       " 14: 'Metapod',\n",
       " 15: 'Butterfree',\n",
       " 16: 'Weedle',\n",
       " 17: 'Kakuna',\n",
       " 18: 'Beedrill',\n",
       " 19: 'BeedrillMega Beedrill',\n",
       " 20: 'Pidgey',\n",
       " 21: 'Pidgeotto',\n",
       " 22: 'Pidgeot',\n",
       " 23: 'PidgeotMega Pidgeot',\n",
       " 24: 'Rattata',\n",
       " 25: 'Raticate',\n",
       " 26: 'Spearow',\n",
       " 27: 'Fearow',\n",
       " 28: 'Ekans',\n",
       " 29: 'Arbok',\n",
       " 30: 'Pikachu',\n",
       " 31: 'Raichu',\n",
       " 32: 'Sandshrew',\n",
       " 33: 'Sandslash',\n",
       " 34: 'Nidoran♀',\n",
       " 35: 'Nidorina',\n",
       " 36: 'Nidoqueen',\n",
       " 37: 'Nidoran♂',\n",
       " 38: 'Nidorino',\n",
       " 39: 'Nidoking',\n",
       " 40: 'Clefairy',\n",
       " 41: 'Clefable',\n",
       " 42: 'Vulpix',\n",
       " 43: 'Ninetales',\n",
       " 44: 'Jigglypuff',\n",
       " 45: 'Wigglytuff',\n",
       " 46: 'Zubat',\n",
       " 47: 'Golbat',\n",
       " 48: 'Oddish',\n",
       " 49: 'Gloom',\n",
       " 50: 'Vileplume',\n",
       " 51: 'Paras',\n",
       " 52: 'Parasect',\n",
       " 53: 'Venonat',\n",
       " 54: 'Venomoth',\n",
       " 55: 'Diglett',\n",
       " 56: 'Dugtrio',\n",
       " 57: 'Meowth',\n",
       " 58: 'Persian',\n",
       " 59: 'Psyduck',\n",
       " 60: 'Golduck',\n",
       " 61: 'Mankey',\n",
       " 62: 'Primeape',\n",
       " 63: 'Growlithe',\n",
       " 64: 'Arcanine',\n",
       " 65: 'Poliwag',\n",
       " 66: 'Poliwhirl',\n",
       " 67: 'Poliwrath',\n",
       " 68: 'Abra',\n",
       " 69: 'Kadabra',\n",
       " 70: 'Alakazam',\n",
       " 71: 'AlakazamMega Alakazam',\n",
       " 72: 'Machop',\n",
       " 73: 'Machoke',\n",
       " 74: 'Machamp',\n",
       " 75: 'Bellsprout',\n",
       " 76: 'Weepinbell',\n",
       " 77: 'Victreebel',\n",
       " 78: 'Tentacool',\n",
       " 79: 'Tentacruel',\n",
       " 80: 'Geodude',\n",
       " 81: 'Graveler',\n",
       " 82: 'Golem',\n",
       " 83: 'Ponyta',\n",
       " 84: 'Rapidash',\n",
       " 85: 'Slowpoke',\n",
       " 86: 'Slowbro',\n",
       " 87: 'SlowbroMega Slowbro',\n",
       " 88: 'Magnemite',\n",
       " 89: 'Magneton',\n",
       " 90: \"Farfetch'd\",\n",
       " 91: 'Doduo',\n",
       " 92: 'Dodrio',\n",
       " 93: 'Seel',\n",
       " 94: 'Dewgong',\n",
       " 95: 'Grimer',\n",
       " 96: 'Muk',\n",
       " 97: 'Shellder',\n",
       " 98: 'Cloyster',\n",
       " 99: 'Gastly',\n",
       " 100: 'Haunter',\n",
       " 101: 'Gengar',\n",
       " 102: 'GengarMega Gengar',\n",
       " 103: 'Onix',\n",
       " 104: 'Drowzee',\n",
       " 105: 'Hypno',\n",
       " 106: 'Krabby',\n",
       " 107: 'Kingler',\n",
       " 108: 'Voltorb',\n",
       " 109: 'Electrode',\n",
       " 110: 'Exeggcute',\n",
       " 111: 'Exeggutor',\n",
       " 112: 'Cubone',\n",
       " 113: 'Marowak',\n",
       " 114: 'Hitmonlee',\n",
       " 115: 'Hitmonchan',\n",
       " 116: 'Lickitung',\n",
       " 117: 'Koffing',\n",
       " 118: 'Weezing',\n",
       " 119: 'Rhyhorn',\n",
       " 120: 'Rhydon',\n",
       " 121: 'Chansey',\n",
       " 122: 'Tangela',\n",
       " 123: 'Kangaskhan',\n",
       " 124: 'KangaskhanMega Kangaskhan',\n",
       " 125: 'Horsea',\n",
       " 126: 'Seadra',\n",
       " 127: 'Goldeen',\n",
       " 128: 'Seaking',\n",
       " 129: 'Staryu',\n",
       " 130: 'Starmie',\n",
       " 131: 'Mr. Mime',\n",
       " 132: 'Scyther',\n",
       " 133: 'Jynx',\n",
       " 134: 'Electabuzz',\n",
       " 135: 'Magmar',\n",
       " 136: 'Pinsir',\n",
       " 137: 'PinsirMega Pinsir',\n",
       " 138: 'Tauros',\n",
       " 139: 'Magikarp',\n",
       " 140: 'Gyarados',\n",
       " 141: 'GyaradosMega Gyarados',\n",
       " 142: 'Lapras',\n",
       " 143: 'Ditto',\n",
       " 144: 'Eevee',\n",
       " 145: 'Vaporeon',\n",
       " 146: 'Jolteon',\n",
       " 147: 'Flareon',\n",
       " 148: 'Porygon',\n",
       " 149: 'Omanyte',\n",
       " 150: 'Omastar',\n",
       " 151: 'Kabuto',\n",
       " 152: 'Kabutops',\n",
       " 153: 'Aerodactyl',\n",
       " 154: 'AerodactylMega Aerodactyl',\n",
       " 155: 'Snorlax',\n",
       " 156: 'Articuno',\n",
       " 157: 'Zapdos',\n",
       " 158: 'Moltres',\n",
       " 159: 'Dratini',\n",
       " 160: 'Dragonair',\n",
       " 161: 'Dragonite',\n",
       " 162: 'Mewtwo',\n",
       " 163: 'MewtwoMega Mewtwo X',\n",
       " 164: 'MewtwoMega Mewtwo Y',\n",
       " 165: 'Mew',\n",
       " 166: 'Chikorita',\n",
       " 167: 'Bayleef',\n",
       " 168: 'Meganium',\n",
       " 169: 'Cyndaquil',\n",
       " 170: 'Quilava',\n",
       " 171: 'Typhlosion',\n",
       " 172: 'Totodile',\n",
       " 173: 'Croconaw',\n",
       " 174: 'Feraligatr',\n",
       " 175: 'Sentret',\n",
       " 176: 'Furret',\n",
       " 177: 'Hoothoot',\n",
       " 178: 'Noctowl',\n",
       " 179: 'Ledyba',\n",
       " 180: 'Ledian',\n",
       " 181: 'Spinarak',\n",
       " 182: 'Ariados',\n",
       " 183: 'Crobat',\n",
       " 184: 'Chinchou',\n",
       " 185: 'Lanturn',\n",
       " 186: 'Pichu',\n",
       " 187: 'Cleffa',\n",
       " 188: 'Igglybuff',\n",
       " 189: 'Togepi',\n",
       " 190: 'Togetic',\n",
       " 191: 'Natu',\n",
       " 192: 'Xatu',\n",
       " 193: 'Mareep',\n",
       " 194: 'Flaaffy',\n",
       " 195: 'Ampharos',\n",
       " 196: 'AmpharosMega Ampharos',\n",
       " 197: 'Bellossom',\n",
       " 198: 'Marill',\n",
       " 199: 'Azumarill',\n",
       " 200: 'Sudowoodo',\n",
       " 201: 'Politoed',\n",
       " 202: 'Hoppip',\n",
       " 203: 'Skiploom',\n",
       " 204: 'Jumpluff',\n",
       " 205: 'Aipom',\n",
       " 206: 'Sunkern',\n",
       " 207: 'Sunflora',\n",
       " 208: 'Yanma',\n",
       " 209: 'Wooper',\n",
       " 210: 'Quagsire',\n",
       " 211: 'Espeon',\n",
       " 212: 'Umbreon',\n",
       " 213: 'Murkrow',\n",
       " 214: 'Slowking',\n",
       " 215: 'Misdreavus',\n",
       " 216: 'Unown',\n",
       " 217: 'Wobbuffet',\n",
       " 218: 'Girafarig',\n",
       " 219: 'Pineco',\n",
       " 220: 'Forretress',\n",
       " 221: 'Dunsparce',\n",
       " 222: 'Gligar',\n",
       " 223: 'Steelix',\n",
       " 224: 'SteelixMega Steelix',\n",
       " 225: 'Snubbull',\n",
       " 226: 'Granbull',\n",
       " 227: 'Qwilfish',\n",
       " 228: 'Scizor',\n",
       " 229: 'ScizorMega Scizor',\n",
       " 230: 'Shuckle',\n",
       " 231: 'Heracross',\n",
       " 232: 'HeracrossMega Heracross',\n",
       " 233: 'Sneasel',\n",
       " 234: 'Teddiursa',\n",
       " 235: 'Ursaring',\n",
       " 236: 'Slugma',\n",
       " 237: 'Magcargo',\n",
       " 238: 'Swinub',\n",
       " 239: 'Piloswine',\n",
       " 240: 'Corsola',\n",
       " 241: 'Remoraid',\n",
       " 242: 'Octillery',\n",
       " 243: 'Delibird',\n",
       " 244: 'Mantine',\n",
       " 245: 'Skarmory',\n",
       " 246: 'Houndour',\n",
       " 247: 'Houndoom',\n",
       " 248: 'HoundoomMega Houndoom',\n",
       " 249: 'Kingdra',\n",
       " 250: 'Phanpy',\n",
       " 251: 'Donphan',\n",
       " 252: 'Porygon2',\n",
       " 253: 'Stantler',\n",
       " 254: 'Smeargle',\n",
       " 255: 'Tyrogue',\n",
       " 256: 'Hitmontop',\n",
       " 257: 'Smoochum',\n",
       " 258: 'Elekid',\n",
       " 259: 'Magby',\n",
       " 260: 'Miltank',\n",
       " 261: 'Blissey',\n",
       " 262: 'Raikou',\n",
       " 263: 'Entei',\n",
       " 264: 'Suicune',\n",
       " 265: 'Larvitar',\n",
       " 266: 'Pupitar',\n",
       " 267: 'Tyranitar',\n",
       " 268: 'TyranitarMega Tyranitar',\n",
       " 269: 'Lugia',\n",
       " 270: 'Ho-oh',\n",
       " 271: 'Celebi',\n",
       " 272: 'Treecko',\n",
       " 273: 'Grovyle',\n",
       " 274: 'Sceptile',\n",
       " 275: 'SceptileMega Sceptile',\n",
       " 276: 'Torchic',\n",
       " 277: 'Combusken',\n",
       " 278: 'Blaziken',\n",
       " 279: 'BlazikenMega Blaziken',\n",
       " 280: 'Mudkip',\n",
       " 281: 'Marshtomp',\n",
       " 282: 'Swampert',\n",
       " 283: 'SwampertMega Swampert',\n",
       " 284: 'Poochyena',\n",
       " 285: 'Mightyena',\n",
       " 286: 'Zigzagoon',\n",
       " 287: 'Linoone',\n",
       " 288: 'Wurmple',\n",
       " 289: 'Silcoon',\n",
       " 290: 'Beautifly',\n",
       " 291: 'Cascoon',\n",
       " 292: 'Dustox',\n",
       " 293: 'Lotad',\n",
       " 294: 'Lombre',\n",
       " 295: 'Ludicolo',\n",
       " 296: 'Seedot',\n",
       " 297: 'Nuzleaf',\n",
       " 298: 'Shiftry',\n",
       " 299: 'Taillow',\n",
       " 300: 'Swellow',\n",
       " 301: 'Wingull',\n",
       " 302: 'Pelipper',\n",
       " 303: 'Ralts',\n",
       " 304: 'Kirlia',\n",
       " 305: 'Gardevoir',\n",
       " 306: 'GardevoirMega Gardevoir',\n",
       " 307: 'Surskit',\n",
       " 308: 'Masquerain',\n",
       " 309: 'Shroomish',\n",
       " 310: 'Breloom',\n",
       " 311: 'Slakoth',\n",
       " 312: 'Vigoroth',\n",
       " 313: 'Slaking',\n",
       " 314: 'Nincada',\n",
       " 315: 'Ninjask',\n",
       " 316: 'Shedinja',\n",
       " 317: 'Whismur',\n",
       " 318: 'Loudred',\n",
       " 319: 'Exploud',\n",
       " 320: 'Makuhita',\n",
       " 321: 'Hariyama',\n",
       " 322: 'Azurill',\n",
       " 323: 'Nosepass',\n",
       " 324: 'Skitty',\n",
       " 325: 'Delcatty',\n",
       " 326: 'Sableye',\n",
       " 327: 'SableyeMega Sableye',\n",
       " 328: 'Mawile',\n",
       " 329: 'MawileMega Mawile',\n",
       " 330: 'Aron',\n",
       " 331: 'Lairon',\n",
       " 332: 'Aggron',\n",
       " 333: 'AggronMega Aggron',\n",
       " 334: 'Meditite',\n",
       " 335: 'Medicham',\n",
       " 336: 'MedichamMega Medicham',\n",
       " 337: 'Electrike',\n",
       " 338: 'Manectric',\n",
       " 339: 'ManectricMega Manectric',\n",
       " 340: 'Plusle',\n",
       " 341: 'Minun',\n",
       " 342: 'Volbeat',\n",
       " 343: 'Illumise',\n",
       " 344: 'Roselia',\n",
       " 345: 'Gulpin',\n",
       " 346: 'Swalot',\n",
       " 347: 'Carvanha',\n",
       " 348: 'Sharpedo',\n",
       " 349: 'SharpedoMega Sharpedo',\n",
       " 350: 'Wailmer',\n",
       " 351: 'Wailord',\n",
       " 352: 'Numel',\n",
       " 353: 'Camerupt',\n",
       " 354: 'CameruptMega Camerupt',\n",
       " 355: 'Torkoal',\n",
       " 356: 'Spoink',\n",
       " 357: 'Grumpig',\n",
       " 358: 'Spinda',\n",
       " 359: 'Trapinch',\n",
       " 360: 'Vibrava',\n",
       " 361: 'Flygon',\n",
       " 362: 'Cacnea',\n",
       " 363: 'Cacturne',\n",
       " 364: 'Swablu',\n",
       " 365: 'Altaria',\n",
       " 366: 'AltariaMega Altaria',\n",
       " 367: 'Zangoose',\n",
       " 368: 'Seviper',\n",
       " 369: 'Lunatone',\n",
       " 370: 'Solrock',\n",
       " 371: 'Barboach',\n",
       " 372: 'Whiscash',\n",
       " 373: 'Corphish',\n",
       " 374: 'Crawdaunt',\n",
       " 375: 'Baltoy',\n",
       " 376: 'Claydol',\n",
       " 377: 'Lileep',\n",
       " 378: 'Cradily',\n",
       " 379: 'Anorith',\n",
       " 380: 'Armaldo',\n",
       " 381: 'Feebas',\n",
       " 382: 'Milotic',\n",
       " 383: 'Castform',\n",
       " 384: 'Kecleon',\n",
       " 385: 'Shuppet',\n",
       " 386: 'Banette',\n",
       " 387: 'BanetteMega Banette',\n",
       " 388: 'Duskull',\n",
       " 389: 'Dusclops',\n",
       " 390: 'Tropius',\n",
       " 391: 'Chimecho',\n",
       " 392: 'Absol',\n",
       " 393: 'AbsolMega Absol',\n",
       " 394: 'Wynaut',\n",
       " 395: 'Snorunt',\n",
       " 396: 'Glalie',\n",
       " 397: 'GlalieMega Glalie',\n",
       " 398: 'Spheal',\n",
       " 399: 'Sealeo',\n",
       " 400: 'Walrein',\n",
       " 401: 'Clamperl',\n",
       " 402: 'Huntail',\n",
       " 403: 'Gorebyss',\n",
       " 404: 'Relicanth',\n",
       " 405: 'Luvdisc',\n",
       " 406: 'Bagon',\n",
       " 407: 'Shelgon',\n",
       " 408: 'Salamence',\n",
       " 409: 'SalamenceMega Salamence',\n",
       " 410: 'Beldum',\n",
       " 411: 'Metang',\n",
       " 412: 'Metagross',\n",
       " 413: 'MetagrossMega Metagross',\n",
       " 414: 'Regirock',\n",
       " 415: 'Regice',\n",
       " 416: 'Registeel',\n",
       " 417: 'Latias',\n",
       " 418: 'LatiasMega Latias',\n",
       " 419: 'Latios',\n",
       " 420: 'LatiosMega Latios',\n",
       " 421: 'Kyogre',\n",
       " 422: 'KyogrePrimal Kyogre',\n",
       " 423: 'Groudon',\n",
       " 424: 'GroudonPrimal Groudon',\n",
       " 425: 'Rayquaza',\n",
       " 426: 'RayquazaMega Rayquaza',\n",
       " 427: 'Jirachi',\n",
       " 428: 'DeoxysNormal Forme',\n",
       " 429: 'DeoxysAttack Forme',\n",
       " 430: 'DeoxysDefense Forme',\n",
       " 431: 'DeoxysSpeed Forme',\n",
       " 432: 'Turtwig',\n",
       " 433: 'Grotle',\n",
       " 434: 'Torterra',\n",
       " 435: 'Chimchar',\n",
       " 436: 'Monferno',\n",
       " 437: 'Infernape',\n",
       " 438: 'Piplup',\n",
       " 439: 'Prinplup',\n",
       " 440: 'Empoleon',\n",
       " 441: 'Starly',\n",
       " 442: 'Staravia',\n",
       " 443: 'Staraptor',\n",
       " 444: 'Bidoof',\n",
       " 445: 'Bibarel',\n",
       " 446: 'Kricketot',\n",
       " 447: 'Kricketune',\n",
       " 448: 'Shinx',\n",
       " 449: 'Luxio',\n",
       " 450: 'Luxray',\n",
       " 451: 'Budew',\n",
       " 452: 'Roserade',\n",
       " 453: 'Cranidos',\n",
       " 454: 'Rampardos',\n",
       " 455: 'Shieldon',\n",
       " 456: 'Bastiodon',\n",
       " 457: 'Burmy',\n",
       " 458: 'WormadamPlant Cloak',\n",
       " 459: 'WormadamSandy Cloak',\n",
       " 460: 'WormadamTrash Cloak',\n",
       " 461: 'Mothim',\n",
       " 462: 'Combee',\n",
       " 463: 'Vespiquen',\n",
       " 464: 'Pachirisu',\n",
       " 465: 'Buizel',\n",
       " 466: 'Floatzel',\n",
       " 467: 'Cherubi',\n",
       " 468: 'Cherrim',\n",
       " 469: 'Shellos',\n",
       " 470: 'Gastrodon',\n",
       " 471: 'Ambipom',\n",
       " 472: 'Drifloon',\n",
       " 473: 'Drifblim',\n",
       " 474: 'Buneary',\n",
       " 475: 'Lopunny',\n",
       " 476: 'LopunnyMega Lopunny',\n",
       " 477: 'Mismagius',\n",
       " 478: 'Honchkrow',\n",
       " 479: 'Glameow',\n",
       " 480: 'Purugly',\n",
       " 481: 'Chingling',\n",
       " 482: 'Stunky',\n",
       " 483: 'Skuntank',\n",
       " 484: 'Bronzor',\n",
       " 485: 'Bronzong',\n",
       " 486: 'Bonsly',\n",
       " 487: 'Mime Jr.',\n",
       " 488: 'Happiny',\n",
       " 489: 'Chatot',\n",
       " 490: 'Spiritomb',\n",
       " 491: 'Gible',\n",
       " 492: 'Gabite',\n",
       " 493: 'Garchomp',\n",
       " 494: 'GarchompMega Garchomp',\n",
       " 495: 'Munchlax',\n",
       " 496: 'Riolu',\n",
       " 497: 'Lucario',\n",
       " 498: 'LucarioMega Lucario',\n",
       " 499: 'Hippopotas',\n",
       " 500: 'Hippowdon',\n",
       " 501: 'Skorupi',\n",
       " 502: 'Drapion',\n",
       " 503: 'Croagunk',\n",
       " 504: 'Toxicroak',\n",
       " 505: 'Carnivine',\n",
       " 506: 'Finneon',\n",
       " 507: 'Lumineon',\n",
       " 508: 'Mantyke',\n",
       " 509: 'Snover',\n",
       " 510: 'Abomasnow',\n",
       " 511: 'AbomasnowMega Abomasnow',\n",
       " 512: 'Weavile',\n",
       " 513: 'Magnezone',\n",
       " 514: 'Lickilicky',\n",
       " 515: 'Rhyperior',\n",
       " 516: 'Tangrowth',\n",
       " 517: 'Electivire',\n",
       " 518: 'Magmortar',\n",
       " 519: 'Togekiss',\n",
       " 520: 'Yanmega',\n",
       " 521: 'Leafeon',\n",
       " 522: 'Glaceon',\n",
       " 523: 'Gliscor',\n",
       " 524: 'Mamoswine',\n",
       " 525: 'Porygon-Z',\n",
       " 526: 'Gallade',\n",
       " 527: 'GalladeMega Gallade',\n",
       " 528: 'Probopass',\n",
       " 529: 'Dusknoir',\n",
       " 530: 'Froslass',\n",
       " 531: 'Rotom',\n",
       " 532: 'RotomHeat Rotom',\n",
       " 533: 'RotomWash Rotom',\n",
       " 534: 'RotomFrost Rotom',\n",
       " 535: 'RotomFan Rotom',\n",
       " 536: 'RotomMow Rotom',\n",
       " 537: 'Uxie',\n",
       " 538: 'Mesprit',\n",
       " 539: 'Azelf',\n",
       " 540: 'Dialga',\n",
       " 541: 'Palkia',\n",
       " 542: 'Heatran',\n",
       " 543: 'Regigigas',\n",
       " 544: 'GiratinaAltered Forme',\n",
       " 545: 'GiratinaOrigin Forme',\n",
       " 546: 'Cresselia',\n",
       " 547: 'Phione',\n",
       " 548: 'Manaphy',\n",
       " 549: 'Darkrai',\n",
       " 550: 'ShayminLand Forme',\n",
       " 551: 'ShayminSky Forme',\n",
       " 552: 'Arceus',\n",
       " 553: 'Victini',\n",
       " 554: 'Snivy',\n",
       " 555: 'Servine',\n",
       " 556: 'Serperior',\n",
       " 557: 'Tepig',\n",
       " 558: 'Pignite',\n",
       " 559: 'Emboar',\n",
       " 560: 'Oshawott',\n",
       " 561: 'Dewott',\n",
       " 562: 'Samurott',\n",
       " 563: 'Patrat',\n",
       " 564: 'Watchog',\n",
       " 565: 'Lillipup',\n",
       " 566: 'Herdier',\n",
       " 567: 'Stoutland',\n",
       " 568: 'Purrloin',\n",
       " 569: 'Liepard',\n",
       " 570: 'Pansage',\n",
       " 571: 'Simisage',\n",
       " 572: 'Pansear',\n",
       " 573: 'Simisear',\n",
       " 574: 'Panpour',\n",
       " 575: 'Simipour',\n",
       " 576: 'Munna',\n",
       " 577: 'Musharna',\n",
       " 578: 'Pidove',\n",
       " 579: 'Tranquill',\n",
       " 580: 'Unfezant',\n",
       " 581: 'Blitzle',\n",
       " 582: 'Zebstrika',\n",
       " 583: 'Roggenrola',\n",
       " 584: 'Boldore',\n",
       " 585: 'Gigalith',\n",
       " 586: 'Woobat',\n",
       " 587: 'Swoobat',\n",
       " 588: 'Drilbur',\n",
       " 589: 'Excadrill',\n",
       " 590: 'Audino',\n",
       " 591: 'AudinoMega Audino',\n",
       " 592: 'Timburr',\n",
       " 593: 'Gurdurr',\n",
       " 594: 'Conkeldurr',\n",
       " 595: 'Tympole',\n",
       " 596: 'Palpitoad',\n",
       " 597: 'Seismitoad',\n",
       " 598: 'Throh',\n",
       " 599: 'Sawk',\n",
       " 600: 'Sewaddle',\n",
       " 601: 'Swadloon',\n",
       " 602: 'Leavanny',\n",
       " 603: 'Venipede',\n",
       " 604: 'Whirlipede',\n",
       " 605: 'Scolipede',\n",
       " 606: 'Cottonee',\n",
       " 607: 'Whimsicott',\n",
       " 608: 'Petilil',\n",
       " 609: 'Lilligant',\n",
       " 610: 'Basculin',\n",
       " 611: 'Sandile',\n",
       " 612: 'Krokorok',\n",
       " 613: 'Krookodile',\n",
       " 614: 'Darumaka',\n",
       " 615: 'DarmanitanStandard Mode',\n",
       " 616: 'DarmanitanZen Mode',\n",
       " 617: 'Maractus',\n",
       " 618: 'Dwebble',\n",
       " 619: 'Crustle',\n",
       " 620: 'Scraggy',\n",
       " 621: 'Scrafty',\n",
       " 622: 'Sigilyph',\n",
       " 623: 'Yamask',\n",
       " 624: 'Cofagrigus',\n",
       " 625: 'Tirtouga',\n",
       " 626: 'Carracosta',\n",
       " 627: 'Archen',\n",
       " 628: 'Archeops',\n",
       " 629: 'Trubbish',\n",
       " 630: 'Garbodor',\n",
       " 631: 'Zorua',\n",
       " 632: 'Zoroark',\n",
       " 633: 'Minccino',\n",
       " 634: 'Cinccino',\n",
       " 635: 'Gothita',\n",
       " 636: 'Gothorita',\n",
       " 637: 'Gothitelle',\n",
       " 638: 'Solosis',\n",
       " 639: 'Duosion',\n",
       " 640: 'Reuniclus',\n",
       " 641: 'Ducklett',\n",
       " 642: 'Swanna',\n",
       " 643: 'Vanillite',\n",
       " 644: 'Vanillish',\n",
       " 645: 'Vanilluxe',\n",
       " 646: 'Deerling',\n",
       " 647: 'Sawsbuck',\n",
       " 648: 'Emolga',\n",
       " 649: 'Karrablast',\n",
       " 650: 'Escavalier',\n",
       " 651: 'Foongus',\n",
       " 652: 'Amoonguss',\n",
       " 653: 'Frillish',\n",
       " 654: 'Jellicent',\n",
       " 655: 'Alomomola',\n",
       " 656: 'Joltik',\n",
       " 657: 'Galvantula',\n",
       " 658: 'Ferroseed',\n",
       " 659: 'Ferrothorn',\n",
       " 660: 'Klink',\n",
       " 661: 'Klang',\n",
       " 662: 'Klinklang',\n",
       " 663: 'Tynamo',\n",
       " 664: 'Eelektrik',\n",
       " 665: 'Eelektross',\n",
       " 666: 'Elgyem',\n",
       " 667: 'Beheeyem',\n",
       " 668: 'Litwick',\n",
       " 669: 'Lampent',\n",
       " 670: 'Chandelure',\n",
       " 671: 'Axew',\n",
       " 672: 'Fraxure',\n",
       " 673: 'Haxorus',\n",
       " 674: 'Cubchoo',\n",
       " 675: 'Beartic',\n",
       " 676: 'Cryogonal',\n",
       " 677: 'Shelmet',\n",
       " 678: 'Accelgor',\n",
       " 679: 'Stunfisk',\n",
       " 680: 'Mienfoo',\n",
       " 681: 'Mienshao',\n",
       " 682: 'Druddigon',\n",
       " 683: 'Golett',\n",
       " 684: 'Golurk',\n",
       " 685: 'Pawniard',\n",
       " 686: 'Bisharp',\n",
       " 687: 'Bouffalant',\n",
       " 688: 'Rufflet',\n",
       " 689: 'Braviary',\n",
       " 690: 'Vullaby',\n",
       " 691: 'Mandibuzz',\n",
       " 692: 'Heatmor',\n",
       " 693: 'Durant',\n",
       " 694: 'Deino',\n",
       " 695: 'Zweilous',\n",
       " 696: 'Hydreigon',\n",
       " 697: 'Larvesta',\n",
       " 698: 'Volcarona',\n",
       " 699: 'Cobalion',\n",
       " 700: 'Terrakion',\n",
       " 701: 'Virizion',\n",
       " 702: 'TornadusIncarnate Forme',\n",
       " 703: 'TornadusTherian Forme',\n",
       " 704: 'ThundurusIncarnate Forme',\n",
       " 705: 'ThundurusTherian Forme',\n",
       " 706: 'Reshiram',\n",
       " 707: 'Zekrom',\n",
       " 708: 'LandorusIncarnate Forme',\n",
       " 709: 'LandorusTherian Forme',\n",
       " 710: 'Kyurem',\n",
       " 711: 'KyuremBlack Kyurem',\n",
       " 712: 'KyuremWhite Kyurem',\n",
       " 713: 'KeldeoOrdinary Forme',\n",
       " 714: 'KeldeoResolute Forme',\n",
       " 715: 'MeloettaAria Forme',\n",
       " 716: 'MeloettaPirouette Forme',\n",
       " 717: 'Genesect',\n",
       " 718: 'Chespin',\n",
       " 719: 'Quilladin',\n",
       " 720: 'Chesnaught',\n",
       " 721: 'Fennekin',\n",
       " 722: 'Braixen',\n",
       " 723: 'Delphox',\n",
       " 724: 'Froakie',\n",
       " 725: 'Frogadier',\n",
       " 726: 'Greninja',\n",
       " 727: 'Bunnelby',\n",
       " 728: 'Diggersby',\n",
       " 729: 'Fletchling',\n",
       " 730: 'Fletchinder',\n",
       " 731: 'Talonflame',\n",
       " 732: 'Scatterbug',\n",
       " 733: 'Spewpa',\n",
       " 734: 'Vivillon',\n",
       " 735: 'Litleo',\n",
       " 736: 'Pyroar',\n",
       " 737: 'Flabébé',\n",
       " 738: 'Floette',\n",
       " 739: 'Florges',\n",
       " 740: 'Skiddo',\n",
       " 741: 'Gogoat',\n",
       " 742: 'Pancham',\n",
       " 743: 'Pangoro',\n",
       " 744: 'Furfrou',\n",
       " 745: 'Espurr',\n",
       " 746: 'MeowsticMale',\n",
       " 747: 'MeowsticFemale',\n",
       " 748: 'Honedge',\n",
       " 749: 'Doublade',\n",
       " 750: 'AegislashBlade Forme',\n",
       " 751: 'AegislashShield Forme',\n",
       " 752: 'Spritzee',\n",
       " 753: 'Aromatisse',\n",
       " 754: 'Swirlix',\n",
       " 755: 'Slurpuff',\n",
       " 756: 'Inkay',\n",
       " 757: 'Malamar',\n",
       " 758: 'Binacle',\n",
       " 759: 'Barbaracle',\n",
       " 760: 'Skrelp',\n",
       " 761: 'Dragalge',\n",
       " 762: 'Clauncher',\n",
       " 763: 'Clawitzer',\n",
       " 764: 'Helioptile',\n",
       " 765: 'Heliolisk',\n",
       " 766: 'Tyrunt',\n",
       " 767: 'Tyrantrum',\n",
       " 768: 'Amaura',\n",
       " 769: 'Aurorus',\n",
       " 770: 'Sylveon',\n",
       " 771: 'Hawlucha',\n",
       " 772: 'Dedenne',\n",
       " 773: 'Carbink',\n",
       " 774: 'Goomy',\n",
       " 775: 'Sliggoo',\n",
       " 776: 'Goodra',\n",
       " 777: 'Klefki',\n",
       " 778: 'Phantump',\n",
       " 779: 'Trevenant',\n",
       " 780: 'PumpkabooAverage Size',\n",
       " 781: 'PumpkabooSmall Size',\n",
       " 782: 'PumpkabooLarge Size',\n",
       " 783: 'PumpkabooSuper Size',\n",
       " 784: 'GourgeistAverage Size',\n",
       " 785: 'GourgeistSmall Size',\n",
       " 786: 'GourgeistLarge Size',\n",
       " 787: 'GourgeistSuper Size',\n",
       " 788: 'Bergmite',\n",
       " 789: 'Avalugg',\n",
       " 790: 'Noibat',\n",
       " 791: 'Noivern',\n",
       " 792: 'Xerneas',\n",
       " 793: 'Yveltal',\n",
       " 794: 'Zygarde50% Forme',\n",
       " 795: 'Diancie',\n",
       " 796: 'DiancieMega Diancie',\n",
       " 797: 'HoopaHoopa Confined',\n",
       " 798: 'HoopaHoopa Unbound',\n",
       " 799: 'Volcanion'}"
      ]
     },
     "execution_count": 77,
     "metadata": {},
     "output_type": "execute_result"
    }
   ],
   "source": [
    "#konwersja na słownik\n",
    "dict(obj)"
   ]
  },
  {
   "cell_type": "code",
   "execution_count": 78,
   "id": "6dc665ed",
   "metadata": {},
   "outputs": [
    {
     "data": {
      "text/plain": [
       "'Abomasnow'"
      ]
     },
     "execution_count": 78,
     "metadata": {},
     "output_type": "execute_result"
    }
   ],
   "source": [
    "min(obj)"
   ]
  },
  {
   "cell_type": "code",
   "execution_count": 80,
   "id": "e3a54d3b",
   "metadata": {},
   "outputs": [],
   "source": [
    "#sortowanie"
   ]
  },
  {
   "cell_type": "code",
   "execution_count": 81,
   "id": "4d4b5025",
   "metadata": {},
   "outputs": [
    {
     "data": {
      "text/plain": [
       "510                  Abomasnow\n",
       "511    AbomasnowMega Abomasnow\n",
       "68                        Abra\n",
       "392                      Absol\n",
       "393            AbsolMega Absol\n",
       "Name: Name, dtype: object"
      ]
     },
     "execution_count": 81,
     "metadata": {},
     "output_type": "execute_result"
    }
   ],
   "source": [
    "obj.sort_values().head(5)"
   ]
  },
  {
   "cell_type": "code",
   "execution_count": 82,
   "id": "42ea6e20",
   "metadata": {},
   "outputs": [
    {
     "data": {
      "text/plain": [
       "794    Zygarde50% Forme\n",
       "695            Zweilous\n",
       "46                Zubat\n",
       "631               Zorua\n",
       "632             Zoroark\n",
       "Name: Name, dtype: object"
      ]
     },
     "execution_count": 82,
     "metadata": {},
     "output_type": "execute_result"
    }
   ],
   "source": [
    "#sorotwanie malejące\n",
    "obj.sort_values(ascending=False).head(5)"
   ]
  },
  {
   "cell_type": "code",
   "execution_count": 85,
   "id": "40b4878b",
   "metadata": {},
   "outputs": [],
   "source": [
    "#zapisz sortowanie\n",
    "obj.sort_values(inplace=True)"
   ]
  },
  {
   "cell_type": "code",
   "execution_count": 86,
   "id": "c63becc4",
   "metadata": {},
   "outputs": [],
   "source": [
    "#czy element jest w serii"
   ]
  },
  {
   "cell_type": "code",
   "execution_count": 87,
   "id": "aa1bd2db",
   "metadata": {},
   "outputs": [],
   "source": [
    "countries = ['EN','PL','GB']"
   ]
  },
  {
   "cell_type": "code",
   "execution_count": 88,
   "id": "f4b28017",
   "metadata": {},
   "outputs": [
    {
     "data": {
      "text/plain": [
       "True"
      ]
     },
     "execution_count": 88,
     "metadata": {},
     "output_type": "execute_result"
    }
   ],
   "source": [
    "'PL' in countries"
   ]
  },
  {
   "cell_type": "code",
   "execution_count": 89,
   "id": "ac2dfbb2",
   "metadata": {},
   "outputs": [
    {
     "data": {
      "text/plain": [
       "False"
      ]
     },
     "execution_count": 89,
     "metadata": {},
     "output_type": "execute_result"
    }
   ],
   "source": [
    "'FR' in countries"
   ]
  },
  {
   "cell_type": "code",
   "execution_count": 90,
   "id": "4ddb98b9",
   "metadata": {},
   "outputs": [
    {
     "data": {
      "text/plain": [
       "True"
      ]
     },
     "execution_count": 90,
     "metadata": {},
     "output_type": "execute_result"
    }
   ],
   "source": [
    "3 in obj\n",
    "#czy istnieje index 3"
   ]
  },
  {
   "cell_type": "code",
   "execution_count": 91,
   "id": "d860caf3",
   "metadata": {},
   "outputs": [
    {
     "data": {
      "text/plain": [
       "True"
      ]
     },
     "execution_count": 91,
     "metadata": {},
     "output_type": "execute_result"
    }
   ],
   "source": [
    "'Zubat' in obj.values"
   ]
  },
  {
   "cell_type": "code",
   "execution_count": 92,
   "id": "dce1e4e0",
   "metadata": {},
   "outputs": [],
   "source": [
    "#pobieranie wartości w oparciu o index"
   ]
  },
  {
   "cell_type": "code",
   "execution_count": 93,
   "id": "13a2a19e",
   "metadata": {},
   "outputs": [
    {
     "data": {
      "text/plain": [
       "'Venomoth'"
      ]
     },
     "execution_count": 93,
     "metadata": {},
     "output_type": "execute_result"
    }
   ],
   "source": [
    "#na pozycji\n",
    "obj[54]"
   ]
  },
  {
   "cell_type": "code",
   "execution_count": 95,
   "id": "09c5d7ea",
   "metadata": {},
   "outputs": [
    {
     "data": {
      "text/plain": [
       "54    Venomoth\n",
       "48      Oddish\n",
       "Name: Name, dtype: object"
      ]
     },
     "execution_count": 95,
     "metadata": {},
     "output_type": "execute_result"
    }
   ],
   "source": [
    "#na pozycji\n",
    "obj[[54,48]]"
   ]
  },
  {
   "cell_type": "code",
   "execution_count": 96,
   "id": "27e8fce7",
   "metadata": {},
   "outputs": [
    {
     "data": {
      "text/plain": [
       "68                     Abra\n",
       "392                   Absol\n",
       "393         AbsolMega Absol\n",
       "678                Accelgor\n",
       "750    AegislashBlade Forme\n",
       "Name: Name, dtype: object"
      ]
     },
     "execution_count": 96,
     "metadata": {},
     "output_type": "execute_result"
    }
   ],
   "source": [
    "obj[2:7]\n",
    "#od 2 do 6 ; 7my nie trafi - odwołanie do watości nie indexu"
   ]
  },
  {
   "cell_type": "code",
   "execution_count": 97,
   "id": "d0a33c76",
   "metadata": {},
   "outputs": [
    {
     "data": {
      "text/plain": [
       "367            Zangoose\n",
       "157              Zapdos\n",
       "582           Zebstrika\n",
       "707              Zekrom\n",
       "286           Zigzagoon\n",
       "632             Zoroark\n",
       "631               Zorua\n",
       "46                Zubat\n",
       "695            Zweilous\n",
       "794    Zygarde50% Forme\n",
       "Name: Name, dtype: object"
      ]
     },
     "execution_count": 97,
     "metadata": {},
     "output_type": "execute_result"
    }
   ],
   "source": [
    "#od do nieokreslono\n",
    "obj[790:]"
   ]
  },
  {
   "cell_type": "code",
   "execution_count": 98,
   "id": "b095ad51",
   "metadata": {},
   "outputs": [],
   "source": [
    "#pobieranie elementów z serii"
   ]
  },
  {
   "cell_type": "code",
   "execution_count": 103,
   "id": "33da5c33",
   "metadata": {},
   "outputs": [],
   "source": [
    "index = ['a','b','c','e','e']\n",
    "values = ['Austria', 'Belgia' , 'Cypr' , 'Estonia' , 'Ekwador']\n",
    "s = pd.Series(values,index)"
   ]
  },
  {
   "cell_type": "code",
   "execution_count": 102,
   "id": "7f99aec3",
   "metadata": {},
   "outputs": [
    {
     "data": {
      "text/plain": [
       "'Austria'"
      ]
     },
     "execution_count": 102,
     "metadata": {},
     "output_type": "execute_result"
    }
   ],
   "source": [
    "s['a']"
   ]
  },
  {
   "cell_type": "code",
   "execution_count": 104,
   "id": "00f83682",
   "metadata": {},
   "outputs": [
    {
     "data": {
      "text/plain": [
       "e    Estonia\n",
       "e    Ekwador\n",
       "dtype: object"
      ]
     },
     "execution_count": 104,
     "metadata": {},
     "output_type": "execute_result"
    }
   ],
   "source": [
    "s['e']"
   ]
  },
  {
   "cell_type": "code",
   "execution_count": 105,
   "id": "ad81bec1",
   "metadata": {},
   "outputs": [
    {
     "data": {
      "text/plain": [
       "'Belgia'"
      ]
     },
     "execution_count": 105,
     "metadata": {},
     "output_type": "execute_result"
    }
   ],
   "source": [
    "s.get('b')"
   ]
  },
  {
   "cell_type": "code",
   "execution_count": 106,
   "id": "6ff408d3",
   "metadata": {},
   "outputs": [
    {
     "data": {
      "text/plain": [
       "'Belgia'"
      ]
     },
     "execution_count": 106,
     "metadata": {},
     "output_type": "execute_result"
    }
   ],
   "source": [
    "s.at['b']"
   ]
  },
  {
   "cell_type": "code",
   "execution_count": 107,
   "id": "4e51cb4d",
   "metadata": {},
   "outputs": [
    {
     "data": {
      "text/plain": [
       "'Belgia'"
      ]
     },
     "execution_count": 107,
     "metadata": {},
     "output_type": "execute_result"
    }
   ],
   "source": [
    "s.loc['b']"
   ]
  },
  {
   "cell_type": "code",
   "execution_count": 108,
   "id": "8de7a1fb",
   "metadata": {},
   "outputs": [],
   "source": [
    "index = ['a','b','c','e1','e2']\n",
    "values = ['Austria', 'Belgia' , 'Cypr' , 'Estonia' , 'Ekwador']\n",
    "s = pd.Series(values,index)"
   ]
  },
  {
   "cell_type": "code",
   "execution_count": 109,
   "id": "b0054c3b",
   "metadata": {},
   "outputs": [
    {
     "data": {
      "text/plain": [
       "a    Austria\n",
       "b     Belgia\n",
       "dtype: object"
      ]
     },
     "execution_count": 109,
     "metadata": {},
     "output_type": "execute_result"
    }
   ],
   "source": [
    "lista = ['a', 'b']\n",
    "s.loc[lista]"
   ]
  },
  {
   "cell_type": "code",
   "execution_count": 110,
   "id": "fc6882d5",
   "metadata": {},
   "outputs": [
    {
     "data": {
      "text/plain": [
       "a    Austria\n",
       "b     Belgia\n",
       "t        NaN\n",
       "dtype: object"
      ]
     },
     "execution_count": 110,
     "metadata": {},
     "output_type": "execute_result"
    }
   ],
   "source": [
    "lista = ['a', 'b', 't']\n",
    "s.reindex(lista)\n",
    "#t - nie istnieje ; reindex dobry tylko do wartości unikalnych"
   ]
  },
  {
   "cell_type": "code",
   "execution_count": 111,
   "id": "49e6d5d7",
   "metadata": {},
   "outputs": [
    {
     "data": {
      "text/plain": [
       "a    Austria\n",
       "b     Belgia\n",
       "dtype: object"
      ]
     },
     "execution_count": 111,
     "metadata": {},
     "output_type": "execute_result"
    }
   ],
   "source": [
    "#inna metoda ; \n",
    "s.loc[s.index.intersection(lista)]"
   ]
  },
  {
   "cell_type": "code",
   "execution_count": 112,
   "id": "2d730461",
   "metadata": {},
   "outputs": [],
   "source": [
    "#określenie indexu podczas importu"
   ]
  },
  {
   "cell_type": "code",
   "execution_count": 118,
   "id": "188ae009",
   "metadata": {},
   "outputs": [
    {
     "data": {
      "text/plain": [
       "#\n",
       "1       49\n",
       "2       62\n",
       "3       82\n",
       "3      100\n",
       "4       52\n",
       "      ... \n",
       "719    100\n",
       "719    160\n",
       "720    110\n",
       "720    160\n",
       "721    110\n",
       "Name: Attack, Length: 800, dtype: int64"
      ]
     },
     "execution_count": 118,
     "metadata": {},
     "output_type": "execute_result"
    }
   ],
   "source": [
    "numeracja od 1 względem #\n",
    "pd.read_csv(\"dane/pokemon.csv\", usecols=['Attack','#'],squeeze=True, index_col='#')"
   ]
  },
  {
   "cell_type": "code",
   "execution_count": 120,
   "id": "18fb28d6",
   "metadata": {},
   "outputs": [],
   "source": [
    "#inna indeksacja\n",
    "ser = pd.read_csv(\"dane/pokemon.csv\", usecols=['Name','Attack'],squeeze=True, index_col='Name')"
   ]
  },
  {
   "cell_type": "code",
   "execution_count": 121,
   "id": "4e46ef14",
   "metadata": {},
   "outputs": [
    {
     "data": {
      "text/plain": [
       "Name\n",
       "Ivysaur                   62\n",
       "Venusaur                  82\n",
       "VenusaurMega Venusaur    100\n",
       "Charmander                52\n",
       "Name: Attack, dtype: int64"
      ]
     },
     "execution_count": 121,
     "metadata": {},
     "output_type": "execute_result"
    }
   ],
   "source": [
    "ser['Ivysaur':'Charmander']"
   ]
  },
  {
   "cell_type": "code",
   "execution_count": 122,
   "id": "af4a64ab",
   "metadata": {},
   "outputs": [
    {
     "data": {
      "text/plain": [
       "Name\n",
       "Ivysaur       62\n",
       "Charmander    52\n",
       "Name: Attack, dtype: int64"
      ]
     },
     "execution_count": 122,
     "metadata": {},
     "output_type": "execute_result"
    }
   ],
   "source": [
    "ser[['Ivysaur','Charmander']]"
   ]
  },
  {
   "cell_type": "code",
   "execution_count": 123,
   "id": "4017d00a",
   "metadata": {},
   "outputs": [],
   "source": [
    "# obj.value_counts()"
   ]
  },
  {
   "cell_type": "code",
   "execution_count": 124,
   "id": "699c4613",
   "metadata": {},
   "outputs": [],
   "source": [
    "# odchylenie standardowe .std() - im większa wartość tym większe są odchylenia, bardziej skrajne dane"
   ]
  },
  {
   "cell_type": "code",
   "execution_count": 125,
   "id": "302b98ee",
   "metadata": {},
   "outputs": [],
   "source": [
    "#modyfikacja serii danych"
   ]
  },
  {
   "cell_type": "code",
   "execution_count": 128,
   "id": "ce05037f",
   "metadata": {},
   "outputs": [],
   "source": [
    "pok = pd.read_csv(\"dane/pokemon.csv\", usecols=['Attack','Name'],squeeze=True)"
   ]
  },
  {
   "cell_type": "code",
   "execution_count": 129,
   "id": "4932ea55",
   "metadata": {},
   "outputs": [],
   "source": [
    "#zwiększ siłę ataku 10 razy\n",
    "pok100=pok*10"
   ]
  },
  {
   "cell_type": "code",
   "execution_count": 130,
   "id": "c2b8832b",
   "metadata": {},
   "outputs": [
    {
     "data": {
      "text/html": [
       "<div>\n",
       "<style scoped>\n",
       "    .dataframe tbody tr th:only-of-type {\n",
       "        vertical-align: middle;\n",
       "    }\n",
       "\n",
       "    .dataframe tbody tr th {\n",
       "        vertical-align: top;\n",
       "    }\n",
       "\n",
       "    .dataframe thead th {\n",
       "        text-align: right;\n",
       "    }\n",
       "</style>\n",
       "<table border=\"1\" class=\"dataframe\">\n",
       "  <thead>\n",
       "    <tr style=\"text-align: right;\">\n",
       "      <th></th>\n",
       "      <th>Name</th>\n",
       "      <th>Attack</th>\n",
       "    </tr>\n",
       "  </thead>\n",
       "  <tbody>\n",
       "    <tr>\n",
       "      <th>0</th>\n",
       "      <td>BulbasaurBulbasaurBulbasaurBulbasaurBulbasaurB...</td>\n",
       "      <td>490</td>\n",
       "    </tr>\n",
       "    <tr>\n",
       "      <th>1</th>\n",
       "      <td>IvysaurIvysaurIvysaurIvysaurIvysaurIvysaurIvys...</td>\n",
       "      <td>620</td>\n",
       "    </tr>\n",
       "    <tr>\n",
       "      <th>2</th>\n",
       "      <td>VenusaurVenusaurVenusaurVenusaurVenusaurVenusa...</td>\n",
       "      <td>820</td>\n",
       "    </tr>\n",
       "    <tr>\n",
       "      <th>3</th>\n",
       "      <td>VenusaurMega VenusaurVenusaurMega VenusaurVenu...</td>\n",
       "      <td>1000</td>\n",
       "    </tr>\n",
       "    <tr>\n",
       "      <th>4</th>\n",
       "      <td>CharmanderCharmanderCharmanderCharmanderCharma...</td>\n",
       "      <td>520</td>\n",
       "    </tr>\n",
       "  </tbody>\n",
       "</table>\n",
       "</div>"
      ],
      "text/plain": [
       "                                                Name  Attack\n",
       "0  BulbasaurBulbasaurBulbasaurBulbasaurBulbasaurB...     490\n",
       "1  IvysaurIvysaurIvysaurIvysaurIvysaurIvysaurIvys...     620\n",
       "2  VenusaurVenusaurVenusaurVenusaurVenusaurVenusa...     820\n",
       "3  VenusaurMega VenusaurVenusaurMega VenusaurVenu...    1000\n",
       "4  CharmanderCharmanderCharmanderCharmanderCharma...     520"
      ]
     },
     "execution_count": 130,
     "metadata": {},
     "output_type": "execute_result"
    }
   ],
   "source": [
    "pok100.head()"
   ]
  },
  {
   "cell_type": "code",
   "execution_count": 135,
   "id": "5313da27",
   "metadata": {},
   "outputs": [],
   "source": [
    "pok = pd.read_csv(\"dane/pokemon.csv\", usecols=['Type 1','Name'],squeeze=True, index_col='Name')"
   ]
  },
  {
   "cell_type": "code",
   "execution_count": 136,
   "id": "296f0a55",
   "metadata": {},
   "outputs": [],
   "source": [
    "# by były duże litery\n",
    "pokUpper = pok.str.upper()"
   ]
  },
  {
   "cell_type": "code",
   "execution_count": 137,
   "id": "02a5d679",
   "metadata": {},
   "outputs": [
    {
     "data": {
      "text/plain": [
       "Name\n",
       "Bulbasaur                GRASS\n",
       "Ivysaur                  GRASS\n",
       "Venusaur                 GRASS\n",
       "VenusaurMega Venusaur    GRASS\n",
       "Charmander                FIRE\n",
       "Name: Type 1, dtype: object"
      ]
     },
     "execution_count": 137,
     "metadata": {},
     "output_type": "execute_result"
    }
   ],
   "source": [
    "pokUpper.head()"
   ]
  },
  {
   "cell_type": "code",
   "execution_count": 138,
   "id": "f849094a",
   "metadata": {},
   "outputs": [],
   "source": [
    "pok1 = \"Type:\"+pok.str.upper()"
   ]
  },
  {
   "cell_type": "code",
   "execution_count": 139,
   "id": "324b1416",
   "metadata": {},
   "outputs": [
    {
     "data": {
      "text/plain": [
       "Name\n",
       "Bulbasaur                Type:GRASS\n",
       "Ivysaur                  Type:GRASS\n",
       "Venusaur                 Type:GRASS\n",
       "VenusaurMega Venusaur    Type:GRASS\n",
       "Charmander                Type:FIRE\n",
       "Name: Type 1, dtype: object"
      ]
     },
     "execution_count": 139,
     "metadata": {},
     "output_type": "execute_result"
    }
   ],
   "source": [
    "pok1.head()"
   ]
  },
  {
   "cell_type": "code",
   "execution_count": 140,
   "id": "3f718c9e",
   "metadata": {},
   "outputs": [
    {
     "data": {
      "text/plain": [
       "Water       112\n",
       "Normal       98\n",
       "Grass        70\n",
       "Bug          69\n",
       "Psychic      57\n",
       "Fire         52\n",
       "Rock         44\n",
       "Electric     44\n",
       "Ghost        32\n",
       "Dragon       32\n",
       "Ground       32\n",
       "Dark         31\n",
       "Poison       28\n",
       "Fighting     27\n",
       "Steel        27\n",
       "Ice          24\n",
       "Fairy        17\n",
       "Flying        4\n",
       "Name: Type 1, dtype: int64"
      ]
     },
     "execution_count": 140,
     "metadata": {},
     "output_type": "execute_result"
    }
   ],
   "source": [
    "pok.value_counts()"
   ]
  },
  {
   "cell_type": "code",
   "execution_count": 141,
   "id": "0f04159f",
   "metadata": {},
   "outputs": [],
   "source": [
    "# zmiana nazwy\n",
    "def ReplaceType(oldType):\n",
    "    if oldType == \"Grass\" or oldType == \"Ground\":\n",
    "        return \"Nature\"\n",
    "    else:\n",
    "        return oldType"
   ]
  },
  {
   "cell_type": "code",
   "execution_count": 142,
   "id": "ae34bd3a",
   "metadata": {},
   "outputs": [],
   "source": [
    "#by funkcja wyżej zostałą zaimplementowana\n",
    "zmiana_nazwy = pok.apply(ReplaceType)"
   ]
  },
  {
   "cell_type": "code",
   "execution_count": 143,
   "id": "42eeffb8",
   "metadata": {},
   "outputs": [
    {
     "data": {
      "text/plain": [
       "Name\n",
       "Bulbasaur                Nature\n",
       "Ivysaur                  Nature\n",
       "Venusaur                 Nature\n",
       "VenusaurMega Venusaur    Nature\n",
       "Charmander                 Fire\n",
       "Name: Type 1, dtype: object"
      ]
     },
     "execution_count": 143,
     "metadata": {},
     "output_type": "execute_result"
    }
   ],
   "source": [
    "zmiana_nazwy.head()"
   ]
  },
  {
   "cell_type": "code",
   "execution_count": 146,
   "id": "83f708b1",
   "metadata": {},
   "outputs": [
    {
     "data": {
      "text/plain": [
       "Name\n",
       "Bulbasaur                GRASS\n",
       "Ivysaur                  GRASS\n",
       "Venusaur                 GRASS\n",
       "VenusaurMega Venusaur    GRASS\n",
       "Charmander                FIRE\n",
       "Name: Type 1, dtype: object"
      ]
     },
     "execution_count": 146,
     "metadata": {},
     "output_type": "execute_result"
    }
   ],
   "source": [
    "#skrócona mała funkcja\n",
    "funkcja_lambda = pok.apply(lambda aText: aText.upper())\n",
    "funkcja_lambda.head()"
   ]
  },
  {
   "cell_type": "code",
   "execution_count": 147,
   "id": "324e76b5",
   "metadata": {},
   "outputs": [],
   "source": [
    "#mapowanie"
   ]
  },
  {
   "cell_type": "code",
   "execution_count": 149,
   "id": "4f2e2374",
   "metadata": {},
   "outputs": [
    {
     "data": {
      "text/plain": [
       "Andy    5\n",
       "Bob     4\n",
       "Alex    2\n",
       "dtype: int64"
      ]
     },
     "execution_count": 149,
     "metadata": {},
     "output_type": "execute_result"
    }
   ],
   "source": [
    "team = pd.Series(data=[5,4,2] , index=['Andy','Bob','Alex'])\n",
    "team"
   ]
  },
  {
   "cell_type": "code",
   "execution_count": 150,
   "id": "6f667615",
   "metadata": {},
   "outputs": [],
   "source": [
    "notes = pd.Series(data=['A','B','C','D'], index=[5,4,3,2])"
   ]
  },
  {
   "cell_type": "code",
   "execution_count": 151,
   "id": "6abee7b9",
   "metadata": {},
   "outputs": [
    {
     "data": {
      "text/plain": [
       "Andy    A\n",
       "Bob     B\n",
       "Alex    D\n",
       "dtype: object"
      ]
     },
     "execution_count": 151,
     "metadata": {},
     "output_type": "execute_result"
    }
   ],
   "source": [
    "team.map(notes)"
   ]
  },
  {
   "cell_type": "code",
   "execution_count": 153,
   "id": "ae9adb36",
   "metadata": {},
   "outputs": [],
   "source": [
    "notes_dict = {2:'D',3:'C',4:'B',5:'A'}"
   ]
  },
  {
   "cell_type": "code",
   "execution_count": 154,
   "id": "70785125",
   "metadata": {},
   "outputs": [
    {
     "data": {
      "text/plain": [
       "Andy    A\n",
       "Bob     B\n",
       "Alex    D\n",
       "dtype: object"
      ]
     },
     "execution_count": 154,
     "metadata": {},
     "output_type": "execute_result"
    }
   ],
   "source": [
    "team.map(notes_dict)"
   ]
  },
  {
   "cell_type": "code",
   "execution_count": null,
   "id": "195b05f5",
   "metadata": {},
   "outputs": [],
   "source": []
  }
 ],
 "metadata": {
  "kernelspec": {
   "display_name": "Python 3",
   "language": "python",
   "name": "python3"
  },
  "language_info": {
   "codemirror_mode": {
    "name": "ipython",
    "version": 3
   },
   "file_extension": ".py",
   "mimetype": "text/x-python",
   "name": "python",
   "nbconvert_exporter": "python",
   "pygments_lexer": "ipython3",
   "version": "3.8.8"
  }
 },
 "nbformat": 4,
 "nbformat_minor": 5
}
